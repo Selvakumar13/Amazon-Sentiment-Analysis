{
 "cells": [
  {
   "cell_type": "code",
   "execution_count": 1,
   "metadata": {
    "colab": {
     "base_uri": "https://localhost:8080/"
    },
    "id": "GrfbaB9bzpXY",
    "outputId": "80c75980-4a72-4c32-bd43-8bfef81a6335"
   },
   "outputs": [
    {
     "name": "stdout",
     "output_type": "stream",
     "text": [
      "Mounted at /content/drive\n"
     ]
    }
   ],
   "source": [
    "    from google.colab import drive\n",
    "drive.mount('/content/drive')\n"
   ]
  },
  {
   "cell_type": "code",
   "execution_count": 2,
   "metadata": {
    "colab": {
     "base_uri": "https://localhost:8080/"
    },
    "id": "IUj9NacCF9D2",
    "outputId": "50f33041-da5c-4f7f-cf46-7b9036d98492"
   },
   "outputs": [
    {
     "name": "stdout",
     "output_type": "stream",
     "text": [
      "Archive:  /content/drive/MyDrive/Dataset/train.ft.txt.bz2.zip\n",
      "  inflating: /content/Amazon Reviews/train.ft.txt.bz2  \n"
     ]
    }
   ],
   "source": [
    "!unzip \"/content/drive/MyDrive/Dataset/train.ft.txt.bz2.zip\" -d \"/content/Amazon Reviews\""
   ]
  },
  {
   "cell_type": "code",
   "execution_count": 9,
   "metadata": {
    "colab": {
     "base_uri": "https://localhost:8080/"
    },
    "id": "W-Y3mOP7rWvB",
    "outputId": "854d8ea8-1c29-4de4-9526-ddd865824f43"
   },
   "outputs": [
    {
     "name": "stdout",
     "output_type": "stream",
     "text": [
      "[nltk_data] Downloading package stopwords to /root/nltk_data...\n",
      "[nltk_data]   Package stopwords is already up-to-date!\n"
     ]
    }
   ],
   "source": [
    "import bz2 as bz2\n",
    "import numpy as np\n",
    "import nltk\n",
    "from sklearn.model_selection import train_test_split\n",
    "nltk.download('stopwords')\n",
    "from nltk.corpus import stopwords\n",
    "import pandas as pd\n",
    "import re"
   ]
  },
  {
   "cell_type": "code",
   "execution_count": 4,
   "metadata": {
    "id": "IiLxUSJ3wbQe"
   },
   "outputs": [],
   "source": [
    "def get_labels_and_texts(file):\n",
    "    labels = []\n",
    "    texts = []\n",
    "    for line in bz2.BZ2File(file):\n",
    "        x = line.decode(\"utf-8\")\n",
    "        labels.append(int(x[9]) - 1)\n",
    "        texts.append(x[10:].strip())\n",
    "    return np.array(labels), texts\n",
    "train_labels, train_texts = get_labels_and_texts('/content/Amazon Reviews/train.ft.txt.bz2')"
   ]
  },
  {
   "cell_type": "code",
   "execution_count": 12,
   "metadata": {
    "id": "Jt6M6P82LbxZ"
   },
   "outputs": [],
   "source": [
    "from sklearn.model_selection import train_test_split\n",
    "labels_train,discard_labels,texts_train,discard_texts = train_test_split(train_labels,train_texts,\n",
    "                                                 test_size = 0.99,\n",
    "                                                 random_state = 2021)"
   ]
  },
  {
   "cell_type": "code",
   "execution_count": 13,
   "metadata": {
    "colab": {
     "base_uri": "https://localhost:8080/"
    },
    "id": "nzoR_9jUL34g",
    "outputId": "10480b44-4dfe-4c98-ba4e-b8e374d64d11"
   },
   "outputs": [
    {
     "name": "stdout",
     "output_type": "stream",
     "text": [
      "3600000\n",
      "36000\n",
      "3564000\n"
     ]
    }
   ],
   "source": [
    "\n",
    "print(len(train_texts))\n",
    "print(len(texts_train))\n",
    "print(len(discard_texts))\n",
    "\n"
   ]
  },
  {
   "cell_type": "code",
   "execution_count": 7,
   "metadata": {
    "id": "QxkKByiueyPF"
   },
   "outputs": [],
   "source": [
    "import nltk\n",
    "from nltk.stem.porter import PorterStemmer\n",
    "porter_object = PorterStemmer()\n",
    "from nltk.stem.snowball import SnowballStemmer\n",
    "snowball_object = SnowballStemmer(\"english\")"
   ]
  },
  {
   "cell_type": "code",
   "execution_count": 14,
   "metadata": {
    "id": "2e7ecSUr-pQq"
   },
   "outputs": [],
   "source": [
    "reviews_train = []\n",
    "for text in texts_train:\n",
    "    text = text.lower() #Convert to lower case\n",
    "    text = re.sub('[^a-zA-Z ]','',text)\n",
    "    text = text.split()\n",
    "    text = [porter_object.stem(word) for word in text if not word in stopwords.words('english')]\n",
    "    text = ' '.join(text)\n",
    "    reviews_train.append(text)"
   ]
  },
  {
   "cell_type": "code",
   "execution_count": 15,
   "metadata": {
    "id": "vxY14gD-LJ5O"
   },
   "outputs": [],
   "source": [
    "df_to_save_train = pd.DataFrame(reviews_train)\n"
   ]
  },
  {
   "cell_type": "code",
   "execution_count": 16,
   "metadata": {
    "id": "cizKkq2222ta"
   },
   "outputs": [],
   "source": [
    "df_to_save_train.to_csv('reviews_train.csv')\n"
   ]
  },
  {
   "cell_type": "code",
   "execution_count": 17,
   "metadata": {
    "id": "AfEQZmSSvNyF"
   },
   "outputs": [],
   "source": [
    "from sklearn.feature_extraction.text import TfidfVectorizer\n",
    "tfidfVec = TfidfVectorizer()\n",
    "x = tfidfVec.fit_transform(reviews_train)"
   ]
  },
  {
   "cell_type": "code",
   "execution_count": 18,
   "metadata": {
    "id": "EWB8yVsUmDd-"
   },
   "outputs": [],
   "source": [
    "y=labels_train\n"
   ]
  },
  {
   "cell_type": "code",
   "execution_count": 20,
   "metadata": {
    "colab": {
     "base_uri": "https://localhost:8080/"
    },
    "id": "hC3hD49znK_4",
    "outputId": "e4a95953-c863-4763-b53b-35e6930ff940"
   },
   "outputs": [
    {
     "name": "stdout",
     "output_type": "stream",
     "text": [
      "(36000, 1)\n",
      "(36000, 71990)\n"
     ]
    }
   ],
   "source": [
    "y = np.reshape(y,(-1,1))\n",
    "print(y.shape)\n",
    "print(x.shape)"
   ]
  },
  {
   "cell_type": "code",
   "execution_count": 21,
   "metadata": {
    "id": "7mflXK3IX0BL"
   },
   "outputs": [],
   "source": [
    "from sklearn.model_selection import train_test_split\n",
    "x_train,x_test,y_train,y_test = train_test_split(x,y,\n",
    "                                                 test_size = 0.2,\n",
    "                                                 random_state = 2021)"
   ]
  },
  {
   "cell_type": "code",
   "execution_count": 118,
   "metadata": {
    "colab": {
     "base_uri": "https://localhost:8080/"
    },
    "id": "eWYZyHnlnMgv",
    "outputId": "99b7dbe5-e769-4631-dc8c-9080fe04a385"
   },
   "outputs": [
    {
     "name": "stderr",
     "output_type": "stream",
     "text": [
      "/usr/local/lib/python3.7/dist-packages/sklearn/utils/validation.py:760: DataConversionWarning: A column-vector y was passed when a 1d array was expected. Please change the shape of y to (n_samples, ), for example using ravel().\n",
      "  y = column_or_1d(y, warn=True)\n"
     ]
    },
    {
     "data": {
      "text/plain": [
       "SVC(C=0.6, break_ties=False, cache_size=200, class_weight=None, coef0=0.0,\n",
       "    decision_function_shape='ovr', degree=3, gamma=0.45, kernel='rbf',\n",
       "    max_iter=-1, probability=False, random_state=None, shrinking=True,\n",
       "    tol=0.001, verbose=False)"
      ]
     },
     "execution_count": 118,
     "metadata": {},
     "output_type": "execute_result"
    }
   ],
   "source": [
    "from sklearn.svm import SVC\n",
    "svc_classifier = SVC(C= 0.6, gamma=0.45, kernel='rbf')\n",
    "svc_classifier.fit(x_train,y_train)"
   ]
  },
  {
   "cell_type": "code",
   "execution_count": 119,
   "metadata": {
    "id": "GVPnnKiFbVpD"
   },
   "outputs": [],
   "source": [
    "import pickle\n",
    "pickle.dump(svc_classifier,open('ASA_SVM.sav','wb'))"
   ]
  },
  {
   "cell_type": "code",
   "execution_count": 120,
   "metadata": {
    "id": "ybrmM2BzbbvG"
   },
   "outputs": [],
   "source": [
    "svc_loaded_classifier = pickle.load(open('/content/ASA_SVM.sav','rb'))"
   ]
  },
  {
   "cell_type": "code",
   "execution_count": 121,
   "metadata": {
    "id": "4uaoIR6fbpGL"
   },
   "outputs": [],
   "source": [
    "y_pred = svc_loaded_classifier.predict(x_test)"
   ]
  },
  {
   "cell_type": "code",
   "execution_count": 122,
   "metadata": {
    "colab": {
     "base_uri": "https://localhost:8080/"
    },
    "id": "oLnIdCebb6fP",
    "outputId": "0fa9a632-ee47-4770-8e73-e7e68e1e56e3"
   },
   "outputs": [
    {
     "name": "stdout",
     "output_type": "stream",
     "text": [
      "Accuracy:  87.1111111111111\n"
     ]
    }
   ],
   "source": [
    "from sklearn.metrics import accuracy_score\n",
    "print(\"Accuracy: \",accuracy_score(y_test,y_pred)*100)"
   ]
  },
  {
   "cell_type": "code",
   "execution_count": 123,
   "metadata": {
    "colab": {
     "base_uri": "https://localhost:8080/"
    },
    "id": "qIo9lOfUb-rO",
    "outputId": "8fa457f4-5b4b-4bda-8ee2-f57dad6a2bb8"
   },
   "outputs": [
    {
     "name": "stdout",
     "output_type": "stream",
     "text": [
      "[[3126  457]\n",
      " [ 471 3146]]\n"
     ]
    }
   ],
   "source": [
    "from sklearn.metrics import confusion_matrix\n",
    "c_m = confusion_matrix(y_test,y_pred)\n",
    "print(c_m)"
   ]
  },
  {
   "cell_type": "code",
   "execution_count": 124,
   "metadata": {
    "colab": {
     "base_uri": "https://localhost:8080/"
    },
    "id": "5iVqr_VkcDhP",
    "outputId": "b7ada312-908f-4034-f837-de3184cd2477"
   },
   "outputs": [
    {
     "name": "stdout",
     "output_type": "stream",
     "text": [
      "Out of all the data predicted as negative , what is the accuracy?\n",
      "86.90575479566304\n",
      "Out of all the data predicted as Positive, what is the accuracy?\n",
      "87.31612545101305\n"
     ]
    }
   ],
   "source": [
    "from sklearn.metrics import precision_score\n",
    "prec = precision_score(y_test,y_pred,pos_label = 0)\n",
    "print(\"Out of all the data predicted as negative , what is the accuracy?\")\n",
    "print(prec*100)\n",
    "from sklearn.metrics import precision_score\n",
    "prec = precision_score(y_test,y_pred,pos_label = 1)\n",
    "print(\"Out of all the data predicted as Positive, what is the accuracy?\")\n",
    "print(prec*100)"
   ]
  },
  {
   "cell_type": "code",
   "execution_count": 125,
   "metadata": {
    "colab": {
     "base_uri": "https://localhost:8080/"
    },
    "id": "pKxYAWr5cz5T",
    "outputId": "5c7f56a8-0c02-4c85-ba80-30c1223ef546"
   },
   "outputs": [
    {
     "name": "stdout",
     "output_type": "stream",
     "text": [
      "87.14681440443213\n"
     ]
    }
   ],
   "source": [
    "from sklearn.metrics import f1_score \n",
    "f1 = f1_score(y_test,y_pred)\n",
    "print(f1*100)"
   ]
  },
  {
   "cell_type": "code",
   "execution_count": 126,
   "metadata": {
    "id": "mNvAcuFpL0HX"
   },
   "outputs": [],
   "source": [
    "#How to perform gridsearch\n",
    "from sklearn.model_selection import GridSearchCV\n",
    "parameters_grid = [{'C':[0.4,0.5,0.6],'kernel':['rbf'],'gamma':[0.4,0.45,0.5,0.55,0.6]}]\n",
    "grid_search_results = GridSearchCV(estimator = svc_classifier,\n",
    "                                   param_grid = parameters_grid,\n",
    "                                   scoring = 'accuracy',\n",
    "                                   n_jobs = -1,\n",
    "                                   cv = 10)"
   ]
  },
  {
   "cell_type": "code",
   "execution_count": 104,
   "metadata": {
    "id": "BW9M49fbHsQ4"
   },
   "outputs": [],
   "source": [
    "a_train,a_test,b_train,b_test = train_test_split(reviews_train,labels_train,\n",
    "                                                 test_size = 0.8,\n",
    "                                                 random_state = 2021)"
   ]
  },
  {
   "cell_type": "code",
   "execution_count": 105,
   "metadata": {
    "colab": {
     "base_uri": "https://localhost:8080/"
    },
    "id": "1FogbsCNICqs",
    "outputId": "014dea6d-0bad-4164-d27b-ec6901c51638"
   },
   "outputs": [
    {
     "name": "stdout",
     "output_type": "stream",
     "text": [
      "7200\n",
      "7200\n"
     ]
    }
   ],
   "source": [
    "print(len(a_train))\n",
    "print(len(b_train))"
   ]
  }
 ],
 "metadata": {
  "colab": {
   "collapsed_sections": [],
   "name": "ASA_SVM.ipynb",
   "provenance": []
  },
  "kernelspec": {
   "display_name": "Python 3 (ipykernel)",
   "language": "python",
   "name": "python3"
  },
  "language_info": {
   "codemirror_mode": {
    "name": "ipython",
    "version": 3
   },
   "file_extension": ".py",
   "mimetype": "text/x-python",
   "name": "python",
   "nbconvert_exporter": "python",
   "pygments_lexer": "ipython3",
   "version": "3.9.7"
  }
 },
 "nbformat": 4,
 "nbformat_minor": 1
}
