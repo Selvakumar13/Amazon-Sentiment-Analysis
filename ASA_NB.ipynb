{
 "cells": [
  {
   "cell_type": "code",
   "execution_count": 1,
   "metadata": {
    "colab": {
     "base_uri": "https://localhost:8080/",
     "height": 0
    },
    "id": "GrfbaB9bzpXY",
    "outputId": "b0134710-1d4b-422c-e17c-478eb82a8e19"
   },
   "outputs": [
    {
     "name": "stdout",
     "output_type": "stream",
     "text": [
      "Mounted at /content/drive\n"
     ]
    }
   ],
   "source": [
    "from google.colab import drive\n",
    "drive.mount('/content/drive')\n"
   ]
  },
  {
   "cell_type": "code",
   "execution_count": 3,
   "metadata": {
    "colab": {
     "base_uri": "https://localhost:8080/",
     "height": 0
    },
    "id": "IUj9NacCF9D2",
    "outputId": "ce7f0bdc-1353-41a1-d8c1-2587bdb39532"
   },
   "outputs": [
    {
     "name": "stdout",
     "output_type": "stream",
     "text": [
      "Archive:  /content/drive/MyDrive/Dataset/train.ft.txt.bz2.zip\n",
      "  inflating: /content/Amazon Reviews/train.ft.txt.bz2  \n"
     ]
    }
   ],
   "source": [
    "!unzip \"/content/drive/MyDrive/Dataset/train.ft.txt.bz2.zip\" -d \"/content/Amazon Reviews\""
   ]
  },
  {
   "cell_type": "code",
   "execution_count": 4,
   "metadata": {
    "colab": {
     "base_uri": "https://localhost:8080/",
     "height": 0
    },
    "id": "W-Y3mOP7rWvB",
    "outputId": "7a5f733a-1b6d-4f7f-97ee-ae6ab5e76d1b"
   },
   "outputs": [
    {
     "name": "stdout",
     "output_type": "stream",
     "text": [
      "[nltk_data] Downloading package stopwords to /root/nltk_data...\n",
      "[nltk_data]   Unzipping corpora/stopwords.zip.\n"
     ]
    }
   ],
   "source": [
    "import bz2 as bz2\n",
    "import numpy as np\n",
    "import nltk\n",
    "from sklearn.model_selection import train_test_split\n",
    "nltk.download('stopwords')\n",
    "from nltk.corpus import stopwords\n",
    "import pandas as pd\n",
    "import re"
   ]
  },
  {
   "cell_type": "code",
   "execution_count": 5,
   "metadata": {
    "id": "IiLxUSJ3wbQe"
   },
   "outputs": [],
   "source": [
    "def get_labels_and_texts(file):\n",
    "    labels = []\n",
    "    texts = []\n",
    "    for line in bz2.BZ2File(file):\n",
    "        x = line.decode(\"utf-8\")\n",
    "        labels.append(int(x[9]) - 1)\n",
    "        texts.append(x[10:].strip())\n",
    "    return np.array(labels), texts\n",
    "train_labels, train_texts = get_labels_and_texts('/content/Amazon Reviews/train.ft.txt.bz2')"
   ]
  },
  {
   "cell_type": "code",
   "execution_count": 6,
   "metadata": {
    "id": "Jt6M6P82LbxZ"
   },
   "outputs": [],
   "source": [
    "from sklearn.model_selection import train_test_split\n",
    "labels_train,discard_labels,texts_train,discard_texts = train_test_split(train_labels,train_texts,\n",
    "                                                 test_size = 0.99,\n",
    "                                                 random_state = 2021)"
   ]
  },
  {
   "cell_type": "code",
   "execution_count": 51,
   "metadata": {
    "id": "UdIJwvAEzswZ"
   },
   "outputs": [],
   "source": [
    "import nltk\n",
    "from nltk.stem.porter import PorterStemmer\n",
    "porter_object = PorterStemmer()\n",
    "from nltk.stem.snowball import SnowballStemmer\n",
    "snowball_object = SnowballStemmer(\"english\")"
   ]
  },
  {
   "cell_type": "code",
   "execution_count": 52,
   "metadata": {
    "id": "Iv-iVGpUzYQ3"
   },
   "outputs": [],
   "source": [
    "reviews_train = []\n",
    "for text in texts_train:\n",
    "    text = text.lower() #Convert to lower case\n",
    "    text = re.sub('[^a-zA-Z ]','',text)\n",
    "    text = text.split()\n",
    "    text = [porter_object.stem(word) for word in text if not word in stopwords.words('english')]\n",
    "    text = ' '.join(text)\n",
    "    reviews_train.append(text)"
   ]
  },
  {
   "cell_type": "code",
   "execution_count": 135,
   "metadata": {
    "id": "AfEQZmSSvNyF"
   },
   "outputs": [],
   "source": [
    "from sklearn.feature_extraction.text import TfidfVectorizer\n",
    "tfidfVec = TfidfVectorizer()\n",
    "x = tfidfVec.fit_transform(reviews_train)"
   ]
  },
  {
   "cell_type": "code",
   "execution_count": 106,
   "metadata": {
    "id": "EWB8yVsUmDd-"
   },
   "outputs": [],
   "source": [
    "y=labels_train\n"
   ]
  },
  {
   "cell_type": "code",
   "execution_count": 107,
   "metadata": {
    "colab": {
     "base_uri": "https://localhost:8080/",
     "height": 0
    },
    "id": "hC3hD49znK_4",
    "outputId": "8009cc8d-01ed-4516-b7f9-8d84824c0d22"
   },
   "outputs": [
    {
     "name": "stdout",
     "output_type": "stream",
     "text": [
      "(36000, 1)\n",
      "(36000, 71990)\n"
     ]
    }
   ],
   "source": [
    "y = np.reshape(y,(-1,1))\n",
    "print(y.shape)\n",
    "print(x.shape)"
   ]
  },
  {
   "cell_type": "code",
   "execution_count": 54,
   "metadata": {
    "id": "7mflXK3IX0BL"
   },
   "outputs": [],
   "source": [
    "from sklearn.model_selection import train_test_split\n",
    "x_train,x_test,y_train,y_test = train_test_split(x,y,\n",
    "                                                 test_size = 0.2,\n",
    "                                                 random_state = 2021)"
   ]
  },
  {
   "cell_type": "markdown",
   "metadata": {
    "id": "k22lRwrawbQj"
   },
   "source": [
    "<h1>random forest classification</h1>\n",
    "criterion='gini"
   ]
  },
  {
   "cell_type": "code",
   "execution_count": 136,
   "metadata": {
    "colab": {
     "base_uri": "https://localhost:8080/",
     "height": 0
    },
    "id": "Yf4ZAHQnGk4S",
    "outputId": "d47d4215-e55c-4e32-9615-875604bc0e56"
   },
   "outputs": [
    {
     "name": "stderr",
     "output_type": "stream",
     "text": [
      "/usr/local/lib/python3.7/dist-packages/ipykernel_launcher.py:3: DataConversionWarning: A column-vector y was passed when a 1d array was expected. Please change the shape of y to (n_samples,), for example using ravel().\n",
      "  This is separate from the ipykernel package so we can avoid doing imports until\n"
     ]
    },
    {
     "data": {
      "text/plain": [
       "RandomForestClassifier(bootstrap=True, ccp_alpha=0.0, class_weight=None,\n",
       "                       criterion='gini', max_depth=None, max_features='auto',\n",
       "                       max_leaf_nodes=None, max_samples=None,\n",
       "                       min_impurity_decrease=0.0, min_impurity_split=None,\n",
       "                       min_samples_leaf=1, min_samples_split=2,\n",
       "                       min_weight_fraction_leaf=0.0, n_estimators=100,\n",
       "                       n_jobs=None, oob_score=False, random_state=None,\n",
       "                       verbose=0, warm_start=False)"
      ]
     },
     "execution_count": 136,
     "metadata": {},
     "output_type": "execute_result"
    }
   ],
   "source": [
    "from sklearn.ensemble import RandomForestClassifier\n",
    "nb_classifier = RandomForestClassifier()\n",
    "nb_classifier.fit(x_train,y_train)"
   ]
  },
  {
   "cell_type": "code",
   "execution_count": 212,
   "metadata": {
    "id": "erpkeGIBKHIX"
   },
   "outputs": [],
   "source": [
    "import pickle\n",
    "pickle.dump(nb_classifier,open('ASA_NB_rf_cg.sav','wb'))"
   ]
  },
  {
   "cell_type": "code",
   "execution_count": 213,
   "metadata": {
    "id": "7EJIxgoyKTmC"
   },
   "outputs": [],
   "source": [
    "nb_loaded_classifier = pickle.load(open('/content/ASA_NB_rf_cg.sav','rb'))"
   ]
  },
  {
   "cell_type": "code",
   "execution_count": 137,
   "metadata": {
    "id": "mAmj01NWJCK7"
   },
   "outputs": [],
   "source": [
    "y_pred = nb_classifier.predict(x_test)"
   ]
  },
  {
   "cell_type": "code",
   "execution_count": 138,
   "metadata": {
    "colab": {
     "base_uri": "https://localhost:8080/",
     "height": 0
    },
    "id": "y-Sdtdr7JCRd",
    "outputId": "1b209183-1f2e-46e1-fcd5-8b6a10f71bc3"
   },
   "outputs": [
    {
     "name": "stdout",
     "output_type": "stream",
     "text": [
      "Accuracy:  84.77777777777777\n"
     ]
    }
   ],
   "source": [
    "from sklearn.metrics import accuracy_score\n",
    "print(\"Accuracy: \",accuracy_score(y_test,y_pred)*100)"
   ]
  },
  {
   "cell_type": "code",
   "execution_count": 139,
   "metadata": {
    "colab": {
     "base_uri": "https://localhost:8080/",
     "height": 0
    },
    "id": "BUeVVfaOJZnN",
    "outputId": "81d7dd22-ce41-4e1c-abdf-d4cd3b8a950d"
   },
   "outputs": [
    {
     "name": "stdout",
     "output_type": "stream",
     "text": [
      "[[3092  491]\n",
      " [ 605 3012]]\n"
     ]
    }
   ],
   "source": [
    "from sklearn.metrics import confusion_matrix\n",
    "c_m = confusion_matrix(y_test,y_pred)\n",
    "print(c_m)"
   ]
  },
  {
   "cell_type": "code",
   "execution_count": 140,
   "metadata": {
    "colab": {
     "base_uri": "https://localhost:8080/",
     "height": 0
    },
    "id": "fm8G_p6DJdwk",
    "outputId": "e46414c5-d6fb-4977-b6c7-1e7f3a5f0d66"
   },
   "outputs": [
    {
     "name": "stdout",
     "output_type": "stream",
     "text": [
      "Out of all the data predicted as negative , what is the accuracy?\n",
      "83.63538003786854\n",
      "Out of all the data predicted as Positive, what is the accuracy?\n",
      "85.9834427633457\n"
     ]
    }
   ],
   "source": [
    "from sklearn.metrics import precision_score\n",
    "prec = precision_score(y_test,y_pred,pos_label = 0)\n",
    "print(\"Out of all the data predicted as negative , what is the accuracy?\")\n",
    "print(prec*100)\n",
    "from sklearn.metrics import precision_score\n",
    "prec = precision_score(y_test,y_pred,pos_label = 1)\n",
    "print(\"Out of all the data predicted as Positive, what is the accuracy?\")\n",
    "print(prec*100)"
   ]
  },
  {
   "cell_type": "code",
   "execution_count": 141,
   "metadata": {
    "colab": {
     "base_uri": "https://localhost:8080/",
     "height": 0
    },
    "id": "Nig265EkJhBc",
    "outputId": "6ddbf26e-c9dc-495f-c91a-d94815acd975"
   },
   "outputs": [
    {
     "name": "stdout",
     "output_type": "stream",
     "text": [
      "84.60674157303372\n"
     ]
    }
   ],
   "source": [
    "from sklearn.metrics import f1_score \n",
    "f1 = f1_score(y_test,y_pred)\n",
    "print(f1*100)"
   ]
  },
  {
   "cell_type": "markdown",
   "metadata": {
    "id": "2lATzo9Ah2DC"
   },
   "source": [
    "<h1>random forest classification</h1>\n",
    "criterion='entropy'"
   ]
  },
  {
   "cell_type": "code",
   "execution_count": 206,
   "metadata": {
    "colab": {
     "base_uri": "https://localhost:8080/",
     "height": 0
    },
    "id": "1km2E8KJhi_U",
    "outputId": "ee255c17-39e0-459e-c0de-b8bd253d45cd"
   },
   "outputs": [
    {
     "name": "stderr",
     "output_type": "stream",
     "text": [
      "/usr/local/lib/python3.7/dist-packages/ipykernel_launcher.py:3: DataConversionWarning: A column-vector y was passed when a 1d array was expected. Please change the shape of y to (n_samples,), for example using ravel().\n",
      "  This is separate from the ipykernel package so we can avoid doing imports until\n"
     ]
    },
    {
     "data": {
      "text/plain": [
       "RandomForestClassifier(bootstrap=True, ccp_alpha=0.0, class_weight=None,\n",
       "                       criterion='entropy', max_depth=None, max_features='auto',\n",
       "                       max_leaf_nodes=None, max_samples=None,\n",
       "                       min_impurity_decrease=0.0, min_impurity_split=None,\n",
       "                       min_samples_leaf=1, min_samples_split=2,\n",
       "                       min_weight_fraction_leaf=0.0, n_estimators=100,\n",
       "                       n_jobs=None, oob_score=False, random_state=None,\n",
       "                       verbose=0, warm_start=False)"
      ]
     },
     "execution_count": 206,
     "metadata": {},
     "output_type": "execute_result"
    }
   ],
   "source": [
    "from sklearn.ensemble import RandomForestClassifier\n",
    "nb_classifier2 = RandomForestClassifier(criterion='entropy')\n",
    "nb_classifier2.fit(x_train,y_train)"
   ]
  },
  {
   "cell_type": "code",
   "execution_count": 228,
   "metadata": {
    "id": "X_heK_EgjJTH"
   },
   "outputs": [],
   "source": [
    "import pickle\n",
    "pickle.dump(nb_classifier2,open('ASA_NB_rf_ce.sav','wb'))"
   ]
  },
  {
   "cell_type": "code",
   "execution_count": 215,
   "metadata": {
    "id": "IJzxeTtnjP3p"
   },
   "outputs": [],
   "source": [
    "nb_loaded_classifier = pickle.load(open('/content/ASA_NB_rf_ce.sav','rb'))"
   ]
  },
  {
   "cell_type": "code",
   "execution_count": 207,
   "metadata": {
    "id": "taK6bchnhjB7"
   },
   "outputs": [],
   "source": [
    "y_pred2 = nb_classifier2.predict(x_test)"
   ]
  },
  {
   "cell_type": "code",
   "execution_count": 208,
   "metadata": {
    "colab": {
     "base_uri": "https://localhost:8080/",
     "height": 0
    },
    "id": "sQUjpZf-hjEi",
    "outputId": "91eeac01-df36-4f21-e7c2-db12aaadb094"
   },
   "outputs": [
    {
     "name": "stdout",
     "output_type": "stream",
     "text": [
      "Accuracy:  84.95833333333334\n"
     ]
    }
   ],
   "source": [
    "print(\"Accuracy: \",accuracy_score(y_test,y_pred2)*100)"
   ]
  },
  {
   "cell_type": "code",
   "execution_count": 209,
   "metadata": {
    "colab": {
     "base_uri": "https://localhost:8080/",
     "height": 0
    },
    "id": "4RGofrfqhjHO",
    "outputId": "66e96388-3fe7-4bdf-df7a-561feb2f4fca"
   },
   "outputs": [
    {
     "name": "stdout",
     "output_type": "stream",
     "text": [
      "[[3125  458]\n",
      " [ 625 2992]]\n"
     ]
    }
   ],
   "source": [
    "from sklearn.metrics import confusion_matrix\n",
    "c_m = confusion_matrix(y_test,y_pred2)\n",
    "print(c_m)"
   ]
  },
  {
   "cell_type": "code",
   "execution_count": 210,
   "metadata": {
    "colab": {
     "base_uri": "https://localhost:8080/",
     "height": 0
    },
    "id": "-tjPrHqvhjJ8",
    "outputId": "e6d722bc-2199-4dcb-83ab-3754f73ce5f8"
   },
   "outputs": [
    {
     "name": "stdout",
     "output_type": "stream",
     "text": [
      "Out of all the data predicted as negative , what is the accuracy?\n",
      "83.33333333333334\n",
      "Out of all the data predicted as Positive, what is the accuracy?\n",
      "86.72463768115942\n"
     ]
    }
   ],
   "source": [
    "from sklearn.metrics import precision_score\n",
    "prec = precision_score(y_test,y_pred2,pos_label = 0)\n",
    "print(\"Out of all the data predicted as negative , what is the accuracy?\")\n",
    "print(prec*100)\n",
    "from sklearn.metrics import precision_score\n",
    "prec = precision_score(y_test,y_pred2,pos_label = 1)\n",
    "print(\"Out of all the data predicted as Positive, what is the accuracy?\")\n",
    "print(prec*100)"
   ]
  },
  {
   "cell_type": "code",
   "execution_count": 211,
   "metadata": {
    "colab": {
     "base_uri": "https://localhost:8080/",
     "height": 0
    },
    "id": "vk5qu5I4iEwe",
    "outputId": "b01f737c-7531-4981-aa77-04dfc05f4696"
   },
   "outputs": [
    {
     "name": "stdout",
     "output_type": "stream",
     "text": [
      "84.67525116739778\n"
     ]
    }
   ],
   "source": [
    "from sklearn.metrics import f1_score \n",
    "f1 = f1_score(y_test,y_pred2)\n",
    "print(f1*100)"
   ]
  },
  {
   "cell_type": "markdown",
   "metadata": {
    "id": "2mKBacLRaGbp"
   },
   "source": [
    "<h1>Decision tree classification</h1>\n",
    "criterion=\"entropy\""
   ]
  },
  {
   "cell_type": "code",
   "execution_count": 165,
   "metadata": {
    "colab": {
     "base_uri": "https://localhost:8080/",
     "height": 0
    },
    "id": "wev50ExvaL3z",
    "outputId": "587f513c-be3b-4bea-ef02-be0d74376585"
   },
   "outputs": [
    {
     "data": {
      "text/plain": [
       "DecisionTreeClassifier(ccp_alpha=0.0, class_weight=None, criterion='entropy',\n",
       "                       max_depth=None, max_features=None, max_leaf_nodes=None,\n",
       "                       min_impurity_decrease=0.0, min_impurity_split=None,\n",
       "                       min_samples_leaf=1, min_samples_split=2,\n",
       "                       min_weight_fraction_leaf=0.0, presort='deprecated',\n",
       "                       random_state=None, splitter='best')"
      ]
     },
     "execution_count": 165,
     "metadata": {},
     "output_type": "execute_result"
    }
   ],
   "source": [
    "from sklearn.tree import DecisionTreeClassifier\n",
    "dt_classifer=DecisionTreeClassifier(criterion='entropy')\n",
    "dt_classifer.fit(x_train,y_train)"
   ]
  },
  {
   "cell_type": "code",
   "execution_count": 216,
   "metadata": {
    "id": "rZ7LMppza33l"
   },
   "outputs": [],
   "source": [
    "import pickle\n",
    "pickle.dump(nb_classifier,open('ASA_NB_dt_ce.sav','wb'))"
   ]
  },
  {
   "cell_type": "code",
   "execution_count": 167,
   "metadata": {
    "id": "UV1ffjYba9WR"
   },
   "outputs": [],
   "source": [
    "nb_dt_loaded_classifier = pickle.load(open('/content/ASA_NB_dt.sav_ce','rb'))"
   ]
  },
  {
   "cell_type": "code",
   "execution_count": 170,
   "metadata": {
    "id": "S5aJcstJbG5W"
   },
   "outputs": [],
   "source": [
    "z_pred=dt_classifer.predict(x_test)"
   ]
  },
  {
   "cell_type": "code",
   "execution_count": 171,
   "metadata": {
    "colab": {
     "base_uri": "https://localhost:8080/",
     "height": 0
    },
    "id": "tf7LAbvNbhC2",
    "outputId": "8da3050c-fc1b-4677-a751-0accd7605e33"
   },
   "outputs": [
    {
     "name": "stdout",
     "output_type": "stream",
     "text": [
      "Accuracy:  73.59722222222223\n"
     ]
    }
   ],
   "source": [
    "print(\"Accuracy: \",accuracy_score(y_test,z_pred)*100)"
   ]
  },
  {
   "cell_type": "code",
   "execution_count": 173,
   "metadata": {
    "colab": {
     "base_uri": "https://localhost:8080/",
     "height": 0
    },
    "id": "NQsRwSIydLLV",
    "outputId": "e0c36d2a-8d74-4d4d-a27a-d3848a4d734f"
   },
   "outputs": [
    {
     "name": "stdout",
     "output_type": "stream",
     "text": [
      "[[2621  962]\n",
      " [ 939 2678]]\n"
     ]
    }
   ],
   "source": [
    "from sklearn.metrics import confusion_matrix\n",
    "c_m = confusion_matrix(y_test,z_pred)\n",
    "print(c_m)"
   ]
  },
  {
   "cell_type": "code",
   "execution_count": 176,
   "metadata": {
    "colab": {
     "base_uri": "https://localhost:8080/",
     "height": 0
    },
    "id": "0NKlxG9jdU_t",
    "outputId": "2a2594ce-06ca-47ad-ef74-04a4c52d29b5"
   },
   "outputs": [
    {
     "name": "stdout",
     "output_type": "stream",
     "text": [
      "Out of all the data predicted as NOT PURCHASING, what is the accuracy?\n",
      "73.62359550561798\n",
      "Out of all the data predicted as PURCHASING, what is the accuracy?\n",
      "73.57142857142858\n"
     ]
    }
   ],
   "source": [
    "from sklearn.metrics import precision_score\n",
    "prec = precision_score(y_test,z_pred,pos_label = 0)\n",
    "print(\"Out of all the data predicted as Negative, what is the accuracy?\")\n",
    "print(prec*100)\n",
    "from sklearn.metrics import precision_score\n",
    "prec = precision_score(y_test,z_pred,pos_label = 1)\n",
    "print(\"Out of all the data predicted as Positive, what is the accuracy?\")\n",
    "print(prec*100)"
   ]
  },
  {
   "cell_type": "code",
   "execution_count": 177,
   "metadata": {
    "colab": {
     "base_uri": "https://localhost:8080/",
     "height": 0
    },
    "id": "9bXdq2bQda9V",
    "outputId": "16855c3f-46d3-495a-dbcf-21e55653af15"
   },
   "outputs": [
    {
     "name": "stdout",
     "output_type": "stream",
     "text": [
      "73.80460245280418\n"
     ]
    }
   ],
   "source": [
    "from sklearn.metrics import f1_score \n",
    "f1 = f1_score(y_test,z_pred)\n",
    "print(f1*100)"
   ]
  },
  {
   "cell_type": "markdown",
   "metadata": {
    "id": "TGddmKKndHgZ"
   },
   "source": [
    "criterion=\"gini'"
   ]
  },
  {
   "cell_type": "code",
   "execution_count": 178,
   "metadata": {
    "colab": {
     "base_uri": "https://localhost:8080/",
     "height": 0
    },
    "id": "U4Xd9fordoGk",
    "outputId": "bf7d35e2-7f18-4398-b74d-5a54ea95676d"
   },
   "outputs": [
    {
     "data": {
      "text/plain": [
       "DecisionTreeClassifier(ccp_alpha=0.0, class_weight=None, criterion='gini',\n",
       "                       max_depth=None, max_features=None, max_leaf_nodes=None,\n",
       "                       min_impurity_decrease=0.0, min_impurity_split=None,\n",
       "                       min_samples_leaf=1, min_samples_split=2,\n",
       "                       min_weight_fraction_leaf=0.0, presort='deprecated',\n",
       "                       random_state=None, splitter='best')"
      ]
     },
     "execution_count": 178,
     "metadata": {},
     "output_type": "execute_result"
    }
   ],
   "source": [
    "from sklearn.tree import DecisionTreeClassifier\n",
    "dt_classifer2=DecisionTreeClassifier()\n",
    "dt_classifer2.fit(x_train,y_train)"
   ]
  },
  {
   "cell_type": "code",
   "execution_count": 225,
   "metadata": {
    "id": "7bh2Jv8Jjaik"
   },
   "outputs": [],
   "source": [
    "import pickle\n",
    "pickle.dump(nb_classifier2,open('ASA_NB_dt_cg.sav','wb'))"
   ]
  },
  {
   "cell_type": "code",
   "execution_count": 182,
   "metadata": {
    "id": "6Cx45tmJdx5S"
   },
   "outputs": [],
   "source": [
    "z_pred2=dt_classifer2.predict(x_test)"
   ]
  },
  {
   "cell_type": "code",
   "execution_count": 183,
   "metadata": {
    "colab": {
     "base_uri": "https://localhost:8080/",
     "height": 0
    },
    "id": "DK60Qf6-d4ac",
    "outputId": "7546e9c3-4bc2-4bbc-8894-7221797be29d"
   },
   "outputs": [
    {
     "name": "stdout",
     "output_type": "stream",
     "text": [
      "Accuracy:  73.61111111111111\n"
     ]
    }
   ],
   "source": [
    "print(\"Accuracy: \",accuracy_score(y_test,z_pred2)*100)"
   ]
  },
  {
   "cell_type": "code",
   "execution_count": 184,
   "metadata": {
    "colab": {
     "base_uri": "https://localhost:8080/",
     "height": 0
    },
    "id": "Af1CPLcJeBrr",
    "outputId": "48d6da18-1d60-4215-e1b4-8bbc822aa467"
   },
   "outputs": [
    {
     "name": "stdout",
     "output_type": "stream",
     "text": [
      "[[2599  984]\n",
      " [ 916 2701]]\n"
     ]
    }
   ],
   "source": [
    "from sklearn.metrics import confusion_matrix\n",
    "c_m = confusion_matrix(y_test,z_pred2)\n",
    "print(c_m)"
   ]
  },
  {
   "cell_type": "code",
   "execution_count": 186,
   "metadata": {
    "colab": {
     "base_uri": "https://localhost:8080/",
     "height": 0
    },
    "id": "SuifI0gleI_u",
    "outputId": "a7ace01a-c51a-4deb-b8e8-a1cea7f9793d"
   },
   "outputs": [
    {
     "name": "stdout",
     "output_type": "stream",
     "text": [
      "Out of all the data predicted as Negative, what is the accuracy?\n",
      "73.9402560455192\n",
      "Out of all the data predicted as Positive, what is the accuracy?\n",
      "73.29715061058344\n"
     ]
    }
   ],
   "source": [
    "from sklearn.metrics import precision_score\n",
    "prec = precision_score(y_test,z_pred2,pos_label = 0)\n",
    "print(\"Out of all the data predicted as Negative, what is the accuracy?\")\n",
    "print(prec*100)\n",
    "from sklearn.metrics import precision_score\n",
    "prec = precision_score(y_test,z_pred2,pos_label = 1)\n",
    "print(\"Out of all the data predicted as Positive, what is the accuracy?\")\n",
    "print(prec*100)"
   ]
  },
  {
   "cell_type": "code",
   "execution_count": 187,
   "metadata": {
    "colab": {
     "base_uri": "https://localhost:8080/",
     "height": 0
    },
    "id": "R9Lf3eGLearf",
    "outputId": "10d1d693-4879-4663-e444-a388460b1e2c"
   },
   "outputs": [
    {
     "name": "stdout",
     "output_type": "stream",
     "text": [
      "73.80460245280418\n"
     ]
    }
   ],
   "source": [
    "from sklearn.metrics import f1_score \n",
    "f1 = f1_score(y_test,z_pred)\n",
    "print(f1*100)"
   ]
  },
  {
   "cell_type": "markdown",
   "metadata": {
    "id": "i2eJePHMecWP"
   },
   "source": [
    "<h1>Mutinomial classification</h1>\n"
   ]
  },
  {
   "cell_type": "code",
   "execution_count": 198,
   "metadata": {
    "colab": {
     "base_uri": "https://localhost:8080/",
     "height": 0
    },
    "id": "5CBkVuO0elTQ",
    "outputId": "83977e17-e438-4b8c-ee06-d1195dbc0644"
   },
   "outputs": [
    {
     "name": "stderr",
     "output_type": "stream",
     "text": [
      "/usr/local/lib/python3.7/dist-packages/sklearn/utils/validation.py:760: DataConversionWarning: A column-vector y was passed when a 1d array was expected. Please change the shape of y to (n_samples, ), for example using ravel().\n",
      "  y = column_or_1d(y, warn=True)\n"
     ]
    },
    {
     "data": {
      "text/plain": [
       "MultinomialNB(alpha=1.0, class_prior=None, fit_prior=True)"
      ]
     },
     "execution_count": 198,
     "metadata": {},
     "output_type": "execute_result"
    }
   ],
   "source": [
    "from sklearn.naive_bayes import MultinomialNB\n",
    "Mn_classifier = MultinomialNB()\n",
    "Mn_classifier.fit(x_train,y_train)"
   ]
  },
  {
   "cell_type": "code",
   "execution_count": 192,
   "metadata": {
    "id": "HOQt8qzuf2ho"
   },
   "outputs": [],
   "source": [
    "import pickle\n",
    "pickle.dump(Mn_classifier,open('ASA_NB_Mn.sav','wb'))"
   ]
  },
  {
   "cell_type": "code",
   "execution_count": 194,
   "metadata": {
    "id": "-idoZ0azgVxJ"
   },
   "outputs": [],
   "source": [
    "nb_Mn_loaded_classifier = pickle.load(open('ASA_NB_Mn.sav','rb'))"
   ]
  },
  {
   "cell_type": "code",
   "execution_count": 200,
   "metadata": {
    "id": "a0ULQ5CJglS0"
   },
   "outputs": [],
   "source": [
    "Mn_pred= Mn_classifier.predict(x_test)"
   ]
  },
  {
   "cell_type": "code",
   "execution_count": 202,
   "metadata": {
    "colab": {
     "base_uri": "https://localhost:8080/",
     "height": 0
    },
    "id": "JY-qqoVef5gT",
    "outputId": "be99ca70-c7a4-4faf-b1da-88c411ad6fb9"
   },
   "outputs": [
    {
     "name": "stdout",
     "output_type": "stream",
     "text": [
      "Accuracy:  82.06944444444444\n"
     ]
    }
   ],
   "source": [
    "from sklearn.metrics import accuracy_score\n",
    "print(\"Accuracy: \",accuracy_score(y_test,Mn_pred)*100)"
   ]
  },
  {
   "cell_type": "code",
   "execution_count": 201,
   "metadata": {
    "colab": {
     "base_uri": "https://localhost:8080/",
     "height": 0
    },
    "id": "1xlfO3pkf7i2",
    "outputId": "41728952-daeb-4d94-9c53-e146e1e7f164"
   },
   "outputs": [
    {
     "name": "stdout",
     "output_type": "stream",
     "text": [
      "[[3097  486]\n",
      " [ 805 2812]]\n"
     ]
    }
   ],
   "source": [
    "from sklearn.metrics import confusion_matrix\n",
    "c_m = confusion_matrix(y_test,Mn_pred)\n",
    "print(c_m)"
   ]
  },
  {
   "cell_type": "code",
   "execution_count": 203,
   "metadata": {
    "colab": {
     "base_uri": "https://localhost:8080/",
     "height": 0
    },
    "id": "RmxG4-1Ef-Jw",
    "outputId": "c18c0413-2f76-49e2-9c24-8ba81850bc2b"
   },
   "outputs": [
    {
     "name": "stdout",
     "output_type": "stream",
     "text": [
      "Out of all the data predicted as Negative, what is the accuracy?\n",
      "79.36955407483342\n",
      "Out of all the data predicted as Positive, what is the accuracy?\n",
      "85.26379624014554\n"
     ]
    }
   ],
   "source": [
    "from sklearn.metrics import precision_score\n",
    "prec = precision_score(y_test,Mn_pred,pos_label = 0)\n",
    "print(\"Out of all the data predicted as Negative, what is the accuracy?\")\n",
    "print(prec*100)\n",
    "from sklearn.metrics import precision_score\n",
    "prec = precision_score(y_test,Mn_pred,pos_label = 1)\n",
    "print(\"Out of all the data predicted as Positive, what is the accuracy?\")\n",
    "print(prec*100)"
   ]
  },
  {
   "cell_type": "code",
   "execution_count": 204,
   "metadata": {
    "colab": {
     "base_uri": "https://localhost:8080/",
     "height": 0
    },
    "id": "EfcAsuj0gAvV",
    "outputId": "78426407-65c4-4657-dcd0-8c5c6a21ee83"
   },
   "outputs": [
    {
     "name": "stdout",
     "output_type": "stream",
     "text": [
      "81.33044107013738\n"
     ]
    }
   ],
   "source": [
    "from sklearn.metrics import f1_score \n",
    "f1 = f1_score(y_test,Mn_pred)\n",
    "print(f1*100)"
   ]
  }
 ],
 "metadata": {
  "colab": {
   "collapsed_sections": [],
   "name": "ASA_NB.ipynb",
   "provenance": []
  },
  "kernelspec": {
   "display_name": "Python 3 (ipykernel)",
   "language": "python",
   "name": "python3"
  },
  "language_info": {
   "codemirror_mode": {
    "name": "ipython",
    "version": 3
   },
   "file_extension": ".py",
   "mimetype": "text/x-python",
   "name": "python",
   "nbconvert_exporter": "python",
   "pygments_lexer": "ipython3",
   "version": "3.9.7"
  }
 },
 "nbformat": 4,
 "nbformat_minor": 1
}
