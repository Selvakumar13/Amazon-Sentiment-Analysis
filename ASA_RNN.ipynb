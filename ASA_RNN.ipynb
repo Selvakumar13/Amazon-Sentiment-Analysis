{
  "nbformat": 4,
  "nbformat_minor": 0,
  "metadata": {
    "colab": {
      "name": "ASA_RNN.ipynb",
      "provenance": [],
      "collapsed_sections": []
    },
    "kernelspec": {
      "name": "python3",
      "display_name": "Python 3"
    },
    "language_info": {
      "name": "python"
    },
    "accelerator": "GPU"
  },
  "cells": [
    {
      "cell_type": "code",
      "metadata": {
        "colab": {
          "base_uri": "https://localhost:8080/"
        },
        "id": "Y9cepObkkUk8",
        "outputId": "2c710a7b-49e0-4a2b-8355-38f587b44356"
      },
      "source": [
        "from google.colab import drive\n",
        "drive.mount('/content/drive')\n"
      ],
      "execution_count": 2,
      "outputs": [
        {
          "output_type": "stream",
          "name": "stdout",
          "text": [
            "Mounted at /content/drive\n"
          ]
        }
      ]
    },
    {
      "cell_type": "code",
      "metadata": {
        "colab": {
          "base_uri": "https://localhost:8080/"
        },
        "id": "-7U14fA0laPy",
        "outputId": "c18cce11-b946-42d4-c93a-2b6f12380da9"
      },
      "source": [
        "!unzip \"/content/drive/MyDrive/Dataset/train.ft.txt.bz2.zip\" -d \"/content/Amazon Reviews\""
      ],
      "execution_count": 3,
      "outputs": [
        {
          "output_type": "stream",
          "name": "stdout",
          "text": [
            "Archive:  /content/drive/MyDrive/Dataset/train.ft.txt.bz2.zip\n",
            "  inflating: /content/Amazon Reviews/train.ft.txt.bz2  \n"
          ]
        }
      ]
    },
    {
      "cell_type": "code",
      "metadata": {
        "colab": {
          "base_uri": "https://localhost:8080/"
        },
        "id": "8k7f6e8plnvS",
        "outputId": "8cbe74a8-6dbe-47d5-bb80-4b9e1a20b9af"
      },
      "source": [
        "import bz2 as bz2\n",
        "import numpy as np\n",
        "import nltk\n",
        "from sklearn.model_selection import train_test_split\n",
        "nltk.download('stopwords')\n",
        "from nltk.corpus import stopwords\n",
        "import pandas as pd\n",
        "import re"
      ],
      "execution_count": 4,
      "outputs": [
        {
          "output_type": "stream",
          "name": "stdout",
          "text": [
            "[nltk_data] Downloading package stopwords to /root/nltk_data...\n",
            "[nltk_data]   Unzipping corpora/stopwords.zip.\n"
          ]
        }
      ]
    },
    {
      "cell_type": "code",
      "metadata": {
        "id": "qu0qotJNn6BF"
      },
      "source": [
        "import pandas as pd\n",
        "import numpy as np\n",
        "import matplotlib.pyplot as plt\n",
        "from tensorflow.python.keras import models, layers, optimizers\n",
        "import tensorflow\n",
        "from tensorflow.keras.preprocessing.text import Tokenizer, text_to_word_sequence\n",
        "from tensorflow.keras.preprocessing.sequence import pad_sequences\n",
        "import bz2\n",
        "from sklearn.metrics import f1_score, roc_auc_score, accuracy_score\n",
        "import re\n",
        "\n",
        "%matplotlib inline"
      ],
      "execution_count": 5,
      "outputs": []
    },
    {
      "cell_type": "code",
      "metadata": {
        "id": "M7SktkCwlrll"
      },
      "source": [
        "def get_labels_and_texts(file):\n",
        "    labels = []\n",
        "    texts = []\n",
        "    for line in bz2.BZ2File(file):\n",
        "        x = line.decode(\"utf-8\")\n",
        "        labels.append(int(x[9]) - 1)\n",
        "        texts.append(x[10:].strip())\n",
        "    return np.array(labels), texts\n",
        "train_labels, train_texts = get_labels_and_texts('/content/Amazon Reviews/train.ft.txt.bz2')"
      ],
      "execution_count": 6,
      "outputs": []
    },
    {
      "cell_type": "code",
      "metadata": {
        "id": "Vvj-BwA_lzYI"
      },
      "source": [
        "from sklearn.model_selection import train_test_split\n",
        "labels_train,discard_labels,texts_train,discard_texts = train_test_split(train_labels,train_texts,\n",
        "                                                 test_size = 0.95,\n",
        "                                                 random_state = 2021)"
      ],
      "execution_count": 7,
      "outputs": []
    },
    {
      "cell_type": "code",
      "metadata": {
        "id": "10YYtQeEsuG3"
      },
      "source": [
        "train_txts = []\n",
        "for text in texts_train:\n",
        "    text = text.lower() #Convert to lower case\n",
        "    text = re.sub('[^a-zA-Z ]','',text)\n",
        "    text = text.split()\n",
        "    text = ' '.join(text)\n",
        "    train_txts.append(text)\n"
      ],
      "execution_count": 8,
      "outputs": []
    },
    {
      "cell_type": "code",
      "metadata": {
        "colab": {
          "base_uri": "https://localhost:8080/"
        },
        "id": "8hAojhHgmehC",
        "outputId": "e24a912e-af2e-4cf5-97f8-2ffd9e78fd68"
      },
      "source": [
        "print(len(train_txts))\n",
        "print(len(labels_train))"
      ],
      "execution_count": 9,
      "outputs": [
        {
          "output_type": "stream",
          "name": "stdout",
          "text": [
            "180000\n",
            "180000\n"
          ]
        }
      ]
    },
    {
      "cell_type": "code",
      "metadata": {
        "id": "BIi3O1hvmsjY"
      },
      "source": [
        "from sklearn.model_selection import train_test_split\n",
        "train_txts2, val_texts, train_labels2, val_labels = train_test_split(\n",
        "    train_txts, labels_train, test_size=0.2)"
      ],
      "execution_count": 10,
      "outputs": []
    },
    {
      "cell_type": "code",
      "metadata": {
        "id": "6F0dMd7VuMr0"
      },
      "source": [
        "from sklearn.model_selection import train_test_split\n",
        "train_texts, test_texts, train_labels, test_labels = train_test_split(\n",
        "    train_txts, labels_train, test_size=0.4)"
      ],
      "execution_count": 11,
      "outputs": []
    },
    {
      "cell_type": "code",
      "metadata": {
        "colab": {
          "base_uri": "https://localhost:8080/"
        },
        "id": "k5b8iPWNm5ZR",
        "outputId": "f7a6efbd-867b-4cbf-cdbd-2083549a31d9"
      },
      "source": [
        "print(len(train_texts))\n",
        "print(len(val_texts))\n",
        "print(len(train_labels))\n",
        "print(len(val_labels ))\n",
        "print(len(test_texts))\n",
        "print(len(test_labels))\n",
        "\n",
        "type(train_texts)\n"
      ],
      "execution_count": 12,
      "outputs": [
        {
          "output_type": "stream",
          "name": "stdout",
          "text": [
            "108000\n",
            "36000\n",
            "108000\n",
            "36000\n",
            "72000\n",
            "72000\n"
          ]
        },
        {
          "output_type": "execute_result",
          "data": {
            "text/plain": [
              "list"
            ]
          },
          "metadata": {},
          "execution_count": 12
        }
      ]
    },
    {
      "cell_type": "code",
      "metadata": {
        "id": "NUZq6IuynbzT"
      },
      "source": [
        "MAX_FEATURES = 12000\n",
        "tokenizer = Tokenizer(num_words=MAX_FEATURES)\n",
        "tokenizer.fit_on_texts(train_texts)\n",
        "train_texts = tokenizer.texts_to_sequences(train_texts)\n",
        "val_texts = tokenizer.texts_to_sequences(val_texts)\n",
        "test_texts = tokenizer.texts_to_sequences(test_texts)"
      ],
      "execution_count": 13,
      "outputs": []
    },
    {
      "cell_type": "code",
      "metadata": {
        "colab": {
          "base_uri": "https://localhost:8080/"
        },
        "id": "tFsJ2U--vURt",
        "outputId": "ece9f963-3678-44c1-8fa6-5f2e09c657a3"
      },
      "source": [
        "tokenizer.word_index"
      ],
      "execution_count": 16,
      "outputs": [
        {
          "output_type": "execute_result",
          "data": {
            "text/plain": [
              "{'the': 1,\n",
              " 'and': 2,\n",
              " 'i': 3,\n",
              " 'a': 4,\n",
              " 'to': 5,\n",
              " 'of': 6,\n",
              " 'it': 7,\n",
              " 'this': 8,\n",
              " 'is': 9,\n",
              " 'in': 10,\n",
              " 'for': 11,\n",
              " 'that': 12,\n",
              " 'was': 13,\n",
              " 'not': 14,\n",
              " 'you': 15,\n",
              " 'with': 16,\n",
              " 'but': 17,\n",
              " 'on': 18,\n",
              " 'book': 19,\n",
              " 'have': 20,\n",
              " 'my': 21,\n",
              " 'as': 22,\n",
              " 'are': 23,\n",
              " 'one': 24,\n",
              " 'be': 25,\n",
              " 'so': 26,\n",
              " 'all': 27,\n",
              " 'great': 28,\n",
              " 'if': 29,\n",
              " 'very': 30,\n",
              " 'good': 31,\n",
              " 'like': 32,\n",
              " 'they': 33,\n",
              " 'its': 34,\n",
              " 'at': 35,\n",
              " 'from': 36,\n",
              " 'just': 37,\n",
              " 'or': 38,\n",
              " 'would': 39,\n",
              " 'an': 40,\n",
              " 'about': 41,\n",
              " 'out': 42,\n",
              " 'me': 43,\n",
              " 'has': 44,\n",
              " 'what': 45,\n",
              " 'had': 46,\n",
              " 'more': 47,\n",
              " 'will': 48,\n",
              " 'when': 49,\n",
              " 'get': 50,\n",
              " 'read': 51,\n",
              " 'by': 52,\n",
              " 'no': 53,\n",
              " 'up': 54,\n",
              " 'time': 55,\n",
              " 'only': 56,\n",
              " 'your': 57,\n",
              " 'there': 58,\n",
              " 'dont': 59,\n",
              " 'can': 60,\n",
              " 'movie': 61,\n",
              " 'he': 62,\n",
              " 'his': 63,\n",
              " 'really': 64,\n",
              " 'some': 65,\n",
              " 'do': 66,\n",
              " 'than': 67,\n",
              " 'them': 68,\n",
              " 'who': 69,\n",
              " 'much': 70,\n",
              " 'well': 71,\n",
              " 'even': 72,\n",
              " 'first': 73,\n",
              " 'other': 74,\n",
              " 'we': 75,\n",
              " 'her': 76,\n",
              " 'these': 77,\n",
              " 'after': 78,\n",
              " 'were': 79,\n",
              " 'love': 80,\n",
              " 'because': 81,\n",
              " 'too': 82,\n",
              " 'product': 83,\n",
              " 'buy': 84,\n",
              " 'been': 85,\n",
              " 'how': 86,\n",
              " 'best': 87,\n",
              " 'which': 88,\n",
              " 'better': 89,\n",
              " 'use': 90,\n",
              " 'their': 91,\n",
              " 'any': 92,\n",
              " 'am': 93,\n",
              " 'work': 94,\n",
              " 'cd': 95,\n",
              " 'she': 96,\n",
              " 'bought': 97,\n",
              " 'also': 98,\n",
              " 'could': 99,\n",
              " 'did': 100,\n",
              " 'album': 101,\n",
              " 'then': 102,\n",
              " 'new': 103,\n",
              " 'little': 104,\n",
              " 'story': 105,\n",
              " 'im': 106,\n",
              " 'way': 107,\n",
              " 'many': 108,\n",
              " 'does': 109,\n",
              " 'into': 110,\n",
              " 'now': 111,\n",
              " 'think': 112,\n",
              " 'money': 113,\n",
              " 'back': 114,\n",
              " 'over': 115,\n",
              " 'music': 116,\n",
              " 'never': 117,\n",
              " 'know': 118,\n",
              " 'most': 119,\n",
              " 'make': 120,\n",
              " 'still': 121,\n",
              " 'got': 122,\n",
              " 'two': 123,\n",
              " 'off': 124,\n",
              " 'bad': 125,\n",
              " 'made': 126,\n",
              " 'books': 127,\n",
              " 'see': 128,\n",
              " 'want': 129,\n",
              " 'should': 130,\n",
              " 'people': 131,\n",
              " 'ever': 132,\n",
              " 'didnt': 133,\n",
              " 'years': 134,\n",
              " 'find': 135,\n",
              " 'recommend': 136,\n",
              " 'ive': 137,\n",
              " 'old': 138,\n",
              " 'quality': 139,\n",
              " 'used': 140,\n",
              " 'go': 141,\n",
              " 'cant': 142,\n",
              " 'same': 143,\n",
              " 'found': 144,\n",
              " 'through': 145,\n",
              " 'reading': 146,\n",
              " 'another': 147,\n",
              " 'dvd': 148,\n",
              " 'say': 149,\n",
              " 'again': 150,\n",
              " 'game': 151,\n",
              " 'doesnt': 152,\n",
              " 'put': 153,\n",
              " 'before': 154,\n",
              " 'while': 155,\n",
              " 'few': 156,\n",
              " 'every': 157,\n",
              " 'worth': 158,\n",
              " 'thing': 159,\n",
              " 'songs': 160,\n",
              " 'life': 161,\n",
              " 'something': 162,\n",
              " 'down': 163,\n",
              " 'easy': 164,\n",
              " 'thought': 165,\n",
              " 'price': 166,\n",
              " 'our': 167,\n",
              " 'lot': 168,\n",
              " 'sound': 169,\n",
              " 'works': 170,\n",
              " 'film': 171,\n",
              " 'give': 172,\n",
              " 'need': 173,\n",
              " 'long': 174,\n",
              " 'why': 175,\n",
              " 'going': 176,\n",
              " 'those': 177,\n",
              " 'being': 178,\n",
              " 'since': 179,\n",
              " 'looking': 180,\n",
              " 'nice': 181,\n",
              " 'excellent': 182,\n",
              " 'right': 183,\n",
              " 'waste': 184,\n",
              " 'hard': 185,\n",
              " 'however': 186,\n",
              " 'must': 187,\n",
              " 'characters': 188,\n",
              " 'year': 189,\n",
              " 'real': 190,\n",
              " 'where': 191,\n",
              " 'last': 192,\n",
              " 'enough': 193,\n",
              " 'nothing': 194,\n",
              " 'look': 195,\n",
              " 'here': 196,\n",
              " 'set': 197,\n",
              " 'day': 198,\n",
              " 'amazon': 199,\n",
              " 'makes': 200,\n",
              " 'such': 201,\n",
              " 'anyone': 202,\n",
              " 'times': 203,\n",
              " 'disappointed': 204,\n",
              " 'different': 205,\n",
              " 'own': 206,\n",
              " 'without': 207,\n",
              " 'take': 208,\n",
              " 'series': 209,\n",
              " 'though': 210,\n",
              " 'fun': 211,\n",
              " 'big': 212,\n",
              " 'written': 213,\n",
              " 'purchased': 214,\n",
              " 'watch': 215,\n",
              " 'far': 216,\n",
              " 'fan': 217,\n",
              " 'us': 218,\n",
              " 'song': 219,\n",
              " 'author': 220,\n",
              " 'end': 221,\n",
              " 'pretty': 222,\n",
              " 'around': 223,\n",
              " 'feel': 224,\n",
              " 'both': 225,\n",
              " 'him': 226,\n",
              " 'using': 227,\n",
              " 'sure': 228,\n",
              " 'actually': 229,\n",
              " 'come': 230,\n",
              " 'may': 231,\n",
              " 'reviews': 232,\n",
              " 'away': 233,\n",
              " 'play': 234,\n",
              " 'keep': 235,\n",
              " 'always': 236,\n",
              " 'version': 237,\n",
              " 'things': 238,\n",
              " 'problem': 239,\n",
              " 'bit': 240,\n",
              " 'interesting': 241,\n",
              " 'small': 242,\n",
              " 'anything': 243,\n",
              " 'stars': 244,\n",
              " 'loved': 245,\n",
              " 'try': 246,\n",
              " 'part': 247,\n",
              " 'each': 248,\n",
              " 'came': 249,\n",
              " 'wonderful': 250,\n",
              " 'show': 251,\n",
              " 'seems': 252,\n",
              " 'almost': 253,\n",
              " 'tried': 254,\n",
              " 'review': 255,\n",
              " 'months': 256,\n",
              " 'item': 257,\n",
              " 'world': 258,\n",
              " 'quite': 259,\n",
              " 'poor': 260,\n",
              " 'said': 261,\n",
              " 'original': 262,\n",
              " 'thats': 263,\n",
              " 'yet': 264,\n",
              " 'getting': 265,\n",
              " 'purchase': 266,\n",
              " 'done': 267,\n",
              " 'once': 268,\n",
              " 'highly': 269,\n",
              " 'seen': 270,\n",
              " 'help': 271,\n",
              " 'next': 272,\n",
              " 'wont': 273,\n",
              " 'youre': 274,\n",
              " 'having': 275,\n",
              " 'enjoy': 276,\n",
              " 'perfect': 277,\n",
              " 'instead': 278,\n",
              " 'isnt': 279,\n",
              " 'video': 280,\n",
              " 'writing': 281,\n",
              " 'whole': 282,\n",
              " 'favorite': 283,\n",
              " 'high': 284,\n",
              " 'information': 285,\n",
              " 'wanted': 286,\n",
              " 'might': 287,\n",
              " 's': 288,\n",
              " 'plot': 289,\n",
              " 'less': 290,\n",
              " 'second': 291,\n",
              " 'received': 292,\n",
              " 'worst': 293,\n",
              " 'several': 294,\n",
              " 'everything': 295,\n",
              " 'believe': 296,\n",
              " 'days': 297,\n",
              " 'buying': 298,\n",
              " 'couldnt': 299,\n",
              " 'three': 300,\n",
              " 'boring': 301,\n",
              " 'trying': 302,\n",
              " 'probably': 303,\n",
              " 'live': 304,\n",
              " 'fine': 305,\n",
              " 'worked': 306,\n",
              " 'light': 307,\n",
              " 'heard': 308,\n",
              " 'maybe': 309,\n",
              " 'movies': 310,\n",
              " 'star': 311,\n",
              " 'able': 312,\n",
              " 'others': 313,\n",
              " 'band': 314,\n",
              " 'least': 315,\n",
              " 'wrong': 316,\n",
              " 'kids': 317,\n",
              " 'true': 318,\n",
              " 'someone': 319,\n",
              " 'until': 320,\n",
              " 'ago': 321,\n",
              " 'fact': 322,\n",
              " 'ordered': 323,\n",
              " 'order': 324,\n",
              " 'together': 325,\n",
              " 'fit': 326,\n",
              " 'happy': 327,\n",
              " 'full': 328,\n",
              " 'took': 329,\n",
              " 'looks': 330,\n",
              " 'wish': 331,\n",
              " 'listen': 332,\n",
              " 'box': 333,\n",
              " 'job': 334,\n",
              " 'wasnt': 335,\n",
              " 'definitely': 336,\n",
              " 'went': 337,\n",
              " 'family': 338,\n",
              " 'short': 339,\n",
              " 'top': 340,\n",
              " 'understand': 341,\n",
              " 'home': 342,\n",
              " 'cover': 343,\n",
              " 'piece': 344,\n",
              " 'especially': 345,\n",
              " 'although': 346,\n",
              " 'point': 347,\n",
              " 'started': 348,\n",
              " 'gave': 349,\n",
              " 'beautiful': 350,\n",
              " 'character': 351,\n",
              " 'case': 352,\n",
              " 'history': 353,\n",
              " 'amazing': 354,\n",
              " 'else': 355,\n",
              " 'already': 356,\n",
              " 'place': 357,\n",
              " 'enjoyed': 358,\n",
              " 'gets': 359,\n",
              " 'stuff': 360,\n",
              " 'novel': 361,\n",
              " 'liked': 362,\n",
              " 'id': 363,\n",
              " 'between': 364,\n",
              " 'man': 365,\n",
              " 'minutes': 366,\n",
              " 'let': 367,\n",
              " 'funny': 368,\n",
              " 'problems': 369,\n",
              " 'saw': 370,\n",
              " 'pages': 371,\n",
              " 'comes': 372,\n",
              " 'water': 373,\n",
              " 'cheap': 374,\n",
              " 'terrible': 375,\n",
              " 'return': 376,\n",
              " 'collection': 377,\n",
              " 'unit': 378,\n",
              " 'left': 379,\n",
              " 'style': 380,\n",
              " 'working': 381,\n",
              " 'start': 382,\n",
              " 'son': 383,\n",
              " 'picture': 384,\n",
              " 'making': 385,\n",
              " 'kind': 386,\n",
              " 'reason': 387,\n",
              " 'size': 388,\n",
              " 'myself': 389,\n",
              " 'classic': 390,\n",
              " 'hear': 391,\n",
              " 'half': 392,\n",
              " 'side': 393,\n",
              " 'couple': 394,\n",
              " 'rather': 395,\n",
              " 'voice': 396,\n",
              " 'everyone': 397,\n",
              " 'line': 398,\n",
              " 'awesome': 399,\n",
              " 'ok': 400,\n",
              " 'idea': 401,\n",
              " 'tv': 402,\n",
              " 'tell': 403,\n",
              " 'hope': 404,\n",
              " 'simply': 405,\n",
              " 'completely': 406,\n",
              " 'either': 407,\n",
              " 'stories': 408,\n",
              " 'save': 409,\n",
              " 'wouldnt': 410,\n",
              " 'gift': 411,\n",
              " 'horrible': 412,\n",
              " 'youll': 413,\n",
              " 'ones': 414,\n",
              " 'children': 415,\n",
              " 'takes': 416,\n",
              " 'black': 417,\n",
              " 'expected': 418,\n",
              " 'sounds': 419,\n",
              " 'camera': 420,\n",
              " 'plastic': 421,\n",
              " 'battery': 422,\n",
              " 'christmas': 423,\n",
              " 'page': 424,\n",
              " 'absolutely': 425,\n",
              " 'finally': 426,\n",
              " 'friends': 427,\n",
              " 'rock': 428,\n",
              " 'seem': 429,\n",
              " 'overall': 430,\n",
              " 'service': 431,\n",
              " 'along': 432,\n",
              " 'person': 433,\n",
              " 'power': 434,\n",
              " 'cannot': 435,\n",
              " 'phone': 436,\n",
              " 'player': 437,\n",
              " 'watching': 438,\n",
              " 'simple': 439,\n",
              " 'loves': 440,\n",
              " 'wait': 441,\n",
              " 'company': 442,\n",
              " 'ill': 443,\n",
              " 'easily': 444,\n",
              " 'lost': 445,\n",
              " 'daughter': 446,\n",
              " 'goes': 447,\n",
              " 'felt': 448,\n",
              " 'fast': 449,\n",
              " 'experience': 450,\n",
              " 'difficult': 451,\n",
              " 'playing': 452,\n",
              " 'needs': 453,\n",
              " 'needed': 454,\n",
              " 'shows': 455,\n",
              " 'house': 456,\n",
              " 'please': 457,\n",
              " 'fans': 458,\n",
              " 'weeks': 459,\n",
              " 'hours': 460,\n",
              " 'under': 461,\n",
              " 'mind': 462,\n",
              " 'copy': 463,\n",
              " 'doing': 464,\n",
              " 'learn': 465,\n",
              " 'truly': 466,\n",
              " 'words': 467,\n",
              " 'rest': 468,\n",
              " 'guess': 469,\n",
              " 'hold': 470,\n",
              " 'etc': 471,\n",
              " 'reader': 472,\n",
              " 'complete': 473,\n",
              " 'track': 474,\n",
              " 'disappointing': 475,\n",
              " 'young': 476,\n",
              " 'extremely': 477,\n",
              " 'turn': 478,\n",
              " 'past': 479,\n",
              " 'during': 480,\n",
              " 'thinking': 481,\n",
              " 'store': 482,\n",
              " 'pay': 483,\n",
              " 'toy': 484,\n",
              " 'support': 485,\n",
              " 'night': 486,\n",
              " 'title': 487,\n",
              " 'cool': 488,\n",
              " 'school': 489,\n",
              " 'recommended': 490,\n",
              " 'gives': 491,\n",
              " 'write': 492,\n",
              " 'course': 493,\n",
              " 'itself': 494,\n",
              " 'computer': 495,\n",
              " 'later': 496,\n",
              " 'given': 497,\n",
              " 'longer': 498,\n",
              " 'theres': 499,\n",
              " 'material': 500,\n",
              " 'care': 501,\n",
              " 'week': 502,\n",
              " 'season': 503,\n",
              " 'parts': 504,\n",
              " 'action': 505,\n",
              " 'type': 506,\n",
              " 'child': 507,\n",
              " 'yourself': 508,\n",
              " 'says': 509,\n",
              " 'havent': 510,\n",
              " 'stay': 511,\n",
              " 'name': 512,\n",
              " 'totally': 513,\n",
              " 'authors': 514,\n",
              " 'system': 515,\n",
              " 'clear': 516,\n",
              " 'god': 517,\n",
              " 'often': 518,\n",
              " 'low': 519,\n",
              " 'played': 520,\n",
              " 'month': 521,\n",
              " 'pictures': 522,\n",
              " 'told': 523,\n",
              " 'deal': 524,\n",
              " 'free': 525,\n",
              " 'called': 526,\n",
              " 'friend': 527,\n",
              " 'coffee': 528,\n",
              " 'listening': 529,\n",
              " 'broke': 530,\n",
              " 'tracks': 531,\n",
              " 'within': 532,\n",
              " 'design': 533,\n",
              " 'acting': 534,\n",
              " 'special': 535,\n",
              " 'yes': 536,\n",
              " 'baby': 537,\n",
              " 'mr': 538,\n",
              " 'today': 539,\n",
              " 'seemed': 540,\n",
              " 'american': 541,\n",
              " 'hot': 542,\n",
              " 'main': 543,\n",
              " 'car': 544,\n",
              " 'sense': 545,\n",
              " 'expect': 546,\n",
              " 'change': 547,\n",
              " 'head': 548,\n",
              " 'entire': 549,\n",
              " 'arrived': 550,\n",
              " 'quickly': 551,\n",
              " 'unfortunately': 552,\n",
              " 'albums': 553,\n",
              " 'stop': 554,\n",
              " 'machine': 555,\n",
              " 'large': 556,\n",
              " 'hand': 557,\n",
              " 'shipping': 558,\n",
              " 'run': 559,\n",
              " 'interested': 560,\n",
              " 'close': 561,\n",
              " 'kept': 562,\n",
              " 'decided': 563,\n",
              " 'awful': 564,\n",
              " 'single': 565,\n",
              " 'color': 566,\n",
              " 'ending': 567,\n",
              " 'available': 568,\n",
              " 'guy': 569,\n",
              " 'sent': 570,\n",
              " 'clean': 571,\n",
              " 'release': 572,\n",
              " 'looked': 573,\n",
              " 'hair': 574,\n",
              " 'huge': 575,\n",
              " 'disappointment': 576,\n",
              " 'based': 577,\n",
              " 'unless': 578,\n",
              " 'brand': 579,\n",
              " 'room': 580,\n",
              " 'open': 581,\n",
              " 'lots': 582,\n",
              " 'th': 583,\n",
              " 'sometimes': 584,\n",
              " 'heavy': 585,\n",
              " 'metal': 586,\n",
              " 'check': 587,\n",
              " 'husband': 588,\n",
              " 'exactly': 589,\n",
              " 'customer': 590,\n",
              " 'products': 591,\n",
              " 'disc': 592,\n",
              " 'level': 593,\n",
              " 'fantastic': 594,\n",
              " 'returned': 595,\n",
              " 'slow': 596,\n",
              " 'cut': 597,\n",
              " 'white': 598,\n",
              " 'junk': 599,\n",
              " 'cost': 600,\n",
              " 'inside': 601,\n",
              " 'games': 602,\n",
              " 'matter': 603,\n",
              " 'plus': 604,\n",
              " 'scenes': 605,\n",
              " 'screen': 606,\n",
              " 'guide': 607,\n",
              " 'war': 608,\n",
              " 'strong': 609,\n",
              " 'number': 610,\n",
              " 'poorly': 611,\n",
              " 'dog': 612,\n",
              " 'replacement': 613,\n",
              " 'mine': 614,\n",
              " 'four': 615,\n",
              " 'follow': 616,\n",
              " 'edition': 617,\n",
              " 'cds': 618,\n",
              " 'useful': 619,\n",
              " 'previous': 620,\n",
              " 'value': 621,\n",
              " 'sorry': 622,\n",
              " 'call': 623,\n",
              " 'remember': 624,\n",
              " 'glad': 625,\n",
              " 'add': 626,\n",
              " 'girl': 627,\n",
              " 'software': 628,\n",
              " 'finish': 629,\n",
              " 'heart': 630,\n",
              " 'radio': 631,\n",
              " 'expensive': 632,\n",
              " 'lyrics': 633,\n",
              " 'five': 634,\n",
              " 'helpful': 635,\n",
              " 'opinion': 636,\n",
              " 'become': 637,\n",
              " 'early': 638,\n",
              " 'guys': 639,\n",
              " 'stand': 640,\n",
              " 'hes': 641,\n",
              " 'mean': 642,\n",
              " 'text': 643,\n",
              " 'women': 644,\n",
              " 'pick': 645,\n",
              " 'forward': 646,\n",
              " 'word': 647,\n",
              " 'model': 648,\n",
              " 'important': 649,\n",
              " 'batteries': 650,\n",
              " 'happened': 651,\n",
              " 'spend': 652,\n",
              " 'soon': 653,\n",
              " 'hate': 654,\n",
              " 'food': 655,\n",
              " 'record': 656,\n",
              " 'extra': 657,\n",
              " 'worse': 658,\n",
              " 'beginning': 659,\n",
              " 'taking': 660,\n",
              " 'paper': 661,\n",
              " 'entertaining': 662,\n",
              " 'dark': 663,\n",
              " 'perhaps': 664,\n",
              " 'age': 665,\n",
              " 'guitar': 666,\n",
              " 'oh': 667,\n",
              " 'wife': 668,\n",
              " 'paid': 669,\n",
              " 'bottom': 670,\n",
              " 'turned': 671,\n",
              " 'performance': 672,\n",
              " 'woman': 673,\n",
              " 'usually': 674,\n",
              " 'john': 675,\n",
              " 'description': 676,\n",
              " 'class': 677,\n",
              " 'missing': 678,\n",
              " 'coming': 679,\n",
              " 'agree': 680,\n",
              " 'watched': 681,\n",
              " 'quick': 682,\n",
              " 'stopped': 683,\n",
              " 'hit': 684,\n",
              " 'pieces': 685,\n",
              " 'features': 686,\n",
              " 'decent': 687,\n",
              " 'recording': 688,\n",
              " 'card': 689,\n",
              " 'business': 690,\n",
              " 'sad': 691,\n",
              " 'except': 692,\n",
              " 'knew': 693,\n",
              " 'useless': 694,\n",
              " 'bag': 695,\n",
              " 'certainly': 696,\n",
              " 'spent': 697,\n",
              " 'personal': 698,\n",
              " 'cable': 699,\n",
              " 'due': 700,\n",
              " 'air': 701,\n",
              " 'theyre': 702,\n",
              " 'boy': 703,\n",
              " 'ideas': 704,\n",
              " 'dead': 705,\n",
              " 'face': 706,\n",
              " 'interest': 707,\n",
              " 'supposed': 708,\n",
              " 'broken': 709,\n",
              " 'issues': 710,\n",
              " 'gone': 711,\n",
              " 'leave': 712,\n",
              " 'thank': 713,\n",
              " 'garbage': 714,\n",
              " 'example': 715,\n",
              " 'stick': 716,\n",
              " 'basic': 717,\n",
              " 'pleased': 718,\n",
              " 'art': 719,\n",
              " 'english': 720,\n",
              " 'group': 721,\n",
              " 'hoping': 722,\n",
              " 'older': 723,\n",
              " 'included': 724,\n",
              " 'move': 725,\n",
              " 'stupid': 726,\n",
              " 'arent': 727,\n",
              " 'subject': 728,\n",
              " 'chapter': 729,\n",
              " 'weight': 730,\n",
              " 'weak': 731,\n",
              " 'control': 732,\n",
              " 'pop': 733,\n",
              " 'view': 734,\n",
              " 'feeling': 735,\n",
              " 'seller': 736,\n",
              " 'films': 737,\n",
              " 'keeps': 738,\n",
              " 'hour': 739,\n",
              " 'twice': 740,\n",
              " 'tool': 741,\n",
              " 'fall': 742,\n",
              " 'tape': 743,\n",
              " 'replace': 744,\n",
              " 'crap': 745,\n",
              " 'suggest': 746,\n",
              " 'total': 747,\n",
              " 'solid': 748,\n",
              " 'taken': 749,\n",
              " 'taste': 750,\n",
              " 'giving': 751,\n",
              " 'greatest': 752,\n",
              " 'volume': 753,\n",
              " 'language': 754,\n",
              " 'country': 755,\n",
              " 'major': 756,\n",
              " 'cute': 757,\n",
              " 'local': 758,\n",
              " 'online': 759,\n",
              " 'annoying': 760,\n",
              " 'scene': 761,\n",
              " 'wants': 762,\n",
              " 'print': 763,\n",
              " 'uses': 764,\n",
              " 'drive': 765,\n",
              " 'serious': 766,\n",
              " 'otherwise': 767,\n",
              " 'advice': 768,\n",
              " 'waiting': 769,\n",
              " 'similar': 770,\n",
              " 'issue': 771,\n",
              " 'against': 772,\n",
              " 'writer': 773,\n",
              " 'recently': 774,\n",
              " 'space': 775,\n",
              " 'library': 776,\n",
              " 'handle': 777,\n",
              " 'thanks': 778,\n",
              " 'ended': 779,\n",
              " 'dvds': 780,\n",
              " 'third': 781,\n",
              " 'behind': 782,\n",
              " 'front': 783,\n",
              " 'apart': 784,\n",
              " 'program': 785,\n",
              " 'including': 786,\n",
              " 'running': 787,\n",
              " 'send': 788,\n",
              " 'list': 789,\n",
              " 'okay': 790,\n",
              " 'lack': 791,\n",
              " 'reviewers': 792,\n",
              " 'instructions': 793,\n",
              " 'break': 794,\n",
              " 'wrote': 795,\n",
              " 'comfortable': 796,\n",
              " 'surprised': 797,\n",
              " 'loud': 798,\n",
              " 'wear': 799,\n",
              " 'lives': 800,\n",
              " 'beware': 801,\n",
              " 'reference': 802,\n",
              " 'released': 803,\n",
              " 'wonder': 804,\n",
              " 'readers': 805,\n",
              " 'seeing': 806,\n",
              " 'hands': 807,\n",
              " 'none': 808,\n",
              " 'middle': 809,\n",
              " 'attention': 810,\n",
              " 'finished': 811,\n",
              " 'de': 812,\n",
              " 'research': 813,\n",
              " 'future': 814,\n",
              " 'effort': 815,\n",
              " 'saying': 816,\n",
              " 'super': 817,\n",
              " 'amount': 818,\n",
              " 'alone': 819,\n",
              " 'enjoyable': 820,\n",
              " 'anyway': 821,\n",
              " 'beyond': 822,\n",
              " 'condition': 823,\n",
              " 'content': 824,\n",
              " 'red': 825,\n",
              " 'throughout': 826,\n",
              " 'girls': 827,\n",
              " 'body': 828,\n",
              " 'chance': 829,\n",
              " 'known': 830,\n",
              " 'package': 831,\n",
              " 'figure': 832,\n",
              " 'men': 833,\n",
              " 'death': 834,\n",
              " 'fiction': 835,\n",
              " 'living': 836,\n",
              " 'blue': 837,\n",
              " 'humor': 838,\n",
              " 'human': 839,\n",
              " 'mother': 840,\n",
              " 'clearly': 841,\n",
              " 'warranty': 842,\n",
              " 'production': 843,\n",
              " 'changed': 844,\n",
              " 'questions': 845,\n",
              " 'parents': 846,\n",
              " 'bible': 847,\n",
              " 'avoid': 848,\n",
              " 'learning': 849,\n",
              " 'impressed': 850,\n",
              " 'windows': 851,\n",
              " 'bands': 852,\n",
              " 'fell': 853,\n",
              " 'perfectly': 854,\n",
              " 'actual': 855,\n",
              " 'bother': 856,\n",
              " 'audio': 857,\n",
              " 'device': 858,\n",
              " 'wow': 859,\n",
              " 'means': 860,\n",
              " 'whats': 861,\n",
              " 'bring': 862,\n",
              " 'across': 863,\n",
              " 'alot': 864,\n",
              " 'excited': 865,\n",
              " 'charge': 866,\n",
              " 'nearly': 867,\n",
              " 'moving': 868,\n",
              " 'choice': 869,\n",
              " 'x': 870,\n",
              " 'eyes': 871,\n",
              " 'expecting': 872,\n",
              " 'effects': 873,\n",
              " 'basically': 874,\n",
              " 'happen': 875,\n",
              " 'rating': 876,\n",
              " 'cast': 877,\n",
              " 'rate': 878,\n",
              " 'difference': 879,\n",
              " 'area': 880,\n",
              " 'romance': 881,\n",
              " 'deep': 882,\n",
              " 'talking': 883,\n",
              " 'obviously': 884,\n",
              " 'u': 885,\n",
              " 'dry': 886,\n",
              " 'himself': 887,\n",
              " 'purchasing': 888,\n",
              " 'kindle': 889,\n",
              " 'digital': 890,\n",
              " 'possible': 891,\n",
              " 'knows': 892,\n",
              " 'youve': 893,\n",
              " 'mix': 894,\n",
              " 'addition': 895,\n",
              " 'sex': 896,\n",
              " 'ms': 897,\n",
              " 'regular': 898,\n",
              " 'plays': 899,\n",
              " 'beat': 900,\n",
              " 'plan': 901,\n",
              " 'musical': 902,\n",
              " 'detail': 903,\n",
              " 'date': 904,\n",
              " 'putting': 905,\n",
              " 'mystery': 906,\n",
              " 'pain': 907,\n",
              " 'trouble': 908,\n",
              " 'mostly': 909,\n",
              " 'somewhat': 910,\n",
              " 'unique': 911,\n",
              " 'feature': 912,\n",
              " 'modern': 913,\n",
              " 'themselves': 914,\n",
              " 'd': 915,\n",
              " 'skin': 916,\n",
              " 'singing': 917,\n",
              " 'stuck': 918,\n",
              " 'details': 919,\n",
              " 'sort': 920,\n",
              " 'noise': 921,\n",
              " 'talent': 922,\n",
              " 'present': 923,\n",
              " 'smell': 924,\n",
              " 'standard': 925,\n",
              " 'horror': 926,\n",
              " 'refund': 927,\n",
              " 'setting': 928,\n",
              " 'process': 929,\n",
              " 'feels': 930,\n",
              " 'period': 931,\n",
              " 'trash': 932,\n",
              " 'flat': 933,\n",
              " 'install': 934,\n",
              " 'straight': 935,\n",
              " 'message': 936,\n",
              " 'soft': 937,\n",
              " 'fits': 938,\n",
              " 'immediately': 939,\n",
              " 'truth': 940,\n",
              " 'novels': 941,\n",
              " 'picked': 942,\n",
              " 'impossible': 943,\n",
              " 'miss': 944,\n",
              " 'general': 945,\n",
              " 'cause': 946,\n",
              " 'form': 947,\n",
              " 'talk': 948,\n",
              " 'contains': 949,\n",
              " 'failed': 950,\n",
              " 'shame': 951,\n",
              " 'feet': 952,\n",
              " 'thin': 953,\n",
              " 'shes': 954,\n",
              " 'learned': 955,\n",
              " 'button': 956,\n",
              " 'sweet': 957,\n",
              " 'items': 958,\n",
              " 'seat': 959,\n",
              " 'actors': 960,\n",
              " 'forget': 961,\n",
              " 'helped': 962,\n",
              " 'listened': 963,\n",
              " 'covers': 964,\n",
              " 'chapters': 965,\n",
              " 'starts': 966,\n",
              " 'powerful': 967,\n",
              " 'incredible': 968,\n",
              " 'recipes': 969,\n",
              " 'upon': 970,\n",
              " 'students': 971,\n",
              " 'trip': 972,\n",
              " 'historical': 973,\n",
              " 'compared': 974,\n",
              " 'likes': 975,\n",
              " 'photos': 976,\n",
              " 'step': 977,\n",
              " 'background': 978,\n",
              " 'christian': 979,\n",
              " 'workout': 980,\n",
              " 'filled': 981,\n",
              " 'results': 982,\n",
              " 'touch': 983,\n",
              " 'outside': 984,\n",
              " 'market': 985,\n",
              " 'died': 986,\n",
              " 'lets': 987,\n",
              " 'sell': 988,\n",
              " 'cat': 989,\n",
              " 'sony': 990,\n",
              " 'comedy': 991,\n",
              " 'consider': 992,\n",
              " 'laugh': 993,\n",
              " 'sucks': 994,\n",
              " 'replaced': 995,\n",
              " 'wasted': 996,\n",
              " 'lead': 997,\n",
              " 'la': 998,\n",
              " 'barely': 999,\n",
              " 'turns': 1000,\n",
              " ...}"
            ]
          },
          "metadata": {},
          "execution_count": 16
        }
      ]
    },
    {
      "cell_type": "code",
      "metadata": {
        "id": "HgY8v5isuyjL"
      },
      "source": [
        "MAX_LENGTH = max(len(train_ex) for train_ex in train_texts)\n",
        "train_texts = pad_sequences(train_texts, maxlen=MAX_LENGTH)\n",
        "val_texts = pad_sequences(val_texts, maxlen=MAX_LENGTH)\n",
        "test_texts = pad_sequences(test_texts, maxlen=MAX_LENGTH)"
      ],
      "execution_count": 17,
      "outputs": []
    },
    {
      "cell_type": "code",
      "metadata": {
        "id": "syGutyVcu2vm"
      },
      "source": [
        "def build_model():\n",
        "    \n",
        "    sequences = layers.Input(shape=(MAX_LENGTH,))\n",
        "    embedded = layers.Embedding(MAX_FEATURES, 64)(sequences)\n",
        "    x = layers.Conv1D(64, 3, activation='relu')(embedded)\n",
        "    x = layers.BatchNormalization()(x)\n",
        "    x = layers.MaxPool1D(3)(x)\n",
        "    x = layers.Conv1D(64, 5, activation='relu')(x)\n",
        "    x = layers.BatchNormalization()(x)\n",
        "    x = layers.MaxPool1D(5)(x)\n",
        "    x = layers.Conv1D(64, 5, activation='relu')(x)\n",
        "    x = layers.GlobalMaxPool1D()(x)\n",
        "    x = layers.Flatten()(x)\n",
        "    x = layers.Dense(100, activation='relu')(x)\n",
        "    predictions = layers.Dense(1, activation='sigmoid')(x)\n",
        "    model = models.Model(inputs=sequences, outputs=predictions)\n",
        "    model.compile(\n",
        "        optimizer='rmsprop',\n",
        "        loss='binary_crossentropy',\n",
        "        metrics=['binary_accuracy']\n",
        "    )\n",
        "    return model\n",
        "    \n",
        "model = build_model()"
      ],
      "execution_count": 18,
      "outputs": []
    },
    {
      "cell_type": "code",
      "metadata": {
        "colab": {
          "base_uri": "https://localhost:8080/"
        },
        "id": "IUNNpW9bA0Pu",
        "outputId": "aaba39e3-257d-4f09-f7ff-2f45bfe499d1"
      },
      "source": [
        "model.summary()"
      ],
      "execution_count": 19,
      "outputs": [
        {
          "output_type": "stream",
          "name": "stdout",
          "text": [
            "Model: \"model\"\n",
            "_________________________________________________________________\n",
            "Layer (type)                 Output Shape              Param #   \n",
            "=================================================================\n",
            "input_1 (InputLayer)         [(None, 212)]             0         \n",
            "_________________________________________________________________\n",
            "embedding (Embedding)        (None, 212, 64)           768000    \n",
            "_________________________________________________________________\n",
            "conv1d (Conv1D)              (None, 210, 64)           12352     \n",
            "_________________________________________________________________\n",
            "batch_normalization (BatchNo (None, 210, 64)           256       \n",
            "_________________________________________________________________\n",
            "max_pooling1d (MaxPooling1D) (None, 70, 64)            0         \n",
            "_________________________________________________________________\n",
            "conv1d_1 (Conv1D)            (None, 66, 64)            20544     \n",
            "_________________________________________________________________\n",
            "batch_normalization_1 (Batch (None, 66, 64)            256       \n",
            "_________________________________________________________________\n",
            "max_pooling1d_1 (MaxPooling1 (None, 13, 64)            0         \n",
            "_________________________________________________________________\n",
            "conv1d_2 (Conv1D)            (None, 9, 64)             20544     \n",
            "_________________________________________________________________\n",
            "global_max_pooling1d (Global (None, 64)                0         \n",
            "_________________________________________________________________\n",
            "flatten (Flatten)            (None, 64)                0         \n",
            "_________________________________________________________________\n",
            "dense (Dense)                (None, 100)               6500      \n",
            "_________________________________________________________________\n",
            "dense_1 (Dense)              (None, 1)                 101       \n",
            "=================================================================\n",
            "Total params: 828,553\n",
            "Trainable params: 828,297\n",
            "Non-trainable params: 256\n",
            "_________________________________________________________________\n"
          ]
        }
      ]
    },
    {
      "cell_type": "code",
      "metadata": {
        "colab": {
          "base_uri": "https://localhost:8080/"
        },
        "id": "OfMOr_8-vG1J",
        "outputId": "eaab6d2a-9181-45b4-c59b-ae2bf3287022"
      },
      "source": [
        "model_cnn =model.fit(\n",
        "          train_texts, \n",
        "          train_labels, \n",
        "          batch_size=128,\n",
        "          epochs=2,\n",
        "          validation_data=(val_texts, val_labels), )"
      ],
      "execution_count": 51,
      "outputs": [
        {
          "output_type": "stream",
          "name": "stdout",
          "text": [
            "Epoch 1/2\n",
            "844/844 [==============================] - 16s 19ms/step - loss: 0.1342 - binary_accuracy: 0.9512 - val_loss: 0.2089 - val_binary_accuracy: 0.9282\n",
            "Epoch 2/2\n",
            "844/844 [==============================] - 16s 19ms/step - loss: 0.0917 - binary_accuracy: 0.9680 - val_loss: 0.2327 - val_binary_accuracy: 0.9171\n"
          ]
        }
      ]
    },
    {
      "cell_type": "code",
      "metadata": {
        "id": "1GALKpkzdzvc"
      },
      "source": [
        "model.save_weights(\"cnn_model.h5\")"
      ],
      "execution_count": 67,
      "outputs": []
    },
    {
      "cell_type": "code",
      "metadata": {
        "colab": {
          "base_uri": "https://localhost:8080/"
        },
        "id": "O5V6HMPzvJ21",
        "outputId": "91028a1f-e0e9-4361-8279-dbb27f9c83da"
      },
      "source": [
        "preds = model.predict(test_texts)\n",
        "print('Accuracy score: {:0.4}'.format(accuracy_score(test_labels, 1 * (preds > 0.5))))\n",
        "print('F1 score: {:0.4}'.format(f1_score(test_labels, 1 * (preds > 0.5))))\n",
        "print('ROC AUC score: {:0.4}'.format(roc_auc_score(test_labels, preds)))"
      ],
      "execution_count": 21,
      "outputs": [
        {
          "output_type": "stream",
          "name": "stdout",
          "text": [
            "Accuracy score: 0.9114\n",
            "F1 score: 0.9077\n",
            "ROC AUC score: 0.9758\n"
          ]
        }
      ]
    },
    {
      "cell_type": "markdown",
      "metadata": {
        "id": "Dgb2AorAF5r8"
      },
      "source": [
        "<h1>RNN</h1>"
      ]
    },
    {
      "cell_type": "code",
      "metadata": {
        "id": "wbO_ZmnvF4-I"
      },
      "source": [
        "def build_rnn_model():\n",
        "    sequences = layers.Input(shape=(MAX_LENGTH,))\n",
        "    embedded = layers.Embedding(MAX_FEATURES, 64)(sequences)\n",
        "    x = layers.CuDNNGRU(128, return_sequences=True)(embedded)\n",
        "    x = layers.CuDNNGRU(128)(x)\n",
        "    x = layers.Dense(32, activation='relu')(x)\n",
        "    x = layers.Dense(100, activation='relu')(x)\n",
        "    predictions = layers.Dense(1, activation='sigmoid')(x)\n",
        "    model = models.Model(inputs=sequences, outputs=predictions)\n",
        "    model.compile(\n",
        "        optimizer='rmsprop',\n",
        "        loss='binary_crossentropy',\n",
        "        metrics=['binary_accuracy'],\n",
        "    )\n",
        "    return model\n",
        "    \n",
        "rnn_model = build_rnn_model()"
      ],
      "execution_count": 22,
      "outputs": []
    },
    {
      "cell_type": "code",
      "metadata": {
        "colab": {
          "base_uri": "https://localhost:8080/"
        },
        "id": "ZF1r8pJCIn7C",
        "outputId": "6b2e2e55-5518-4311-bf6c-e90c442019ce"
      },
      "source": [
        "rnn_model.fit(\n",
        "    train_texts, \n",
        "    train_labels, \n",
        "    batch_size=128,\n",
        "    epochs=1,\n",
        "    validation_data=(val_texts, val_labels), )"
      ],
      "execution_count": 23,
      "outputs": [
        {
          "output_type": "stream",
          "name": "stdout",
          "text": [
            "844/844 [==============================] - 80s 91ms/step - loss: 0.3328 - binary_accuracy: 0.8568 - val_loss: 0.2029 - val_binary_accuracy: 0.9211\n"
          ]
        },
        {
          "output_type": "execute_result",
          "data": {
            "text/plain": [
              "<tensorflow.python.keras.callbacks.History at 0x7f2660973a90>"
            ]
          },
          "metadata": {},
          "execution_count": 23
        }
      ]
    },
    {
      "cell_type": "code",
      "metadata": {
        "id": "P8p1kEBXd65b"
      },
      "source": [
        "rnn_model.save_weights(\"rnn_model.h5\")"
      ],
      "execution_count": 68,
      "outputs": []
    },
    {
      "cell_type": "code",
      "metadata": {
        "colab": {
          "base_uri": "https://localhost:8080/"
        },
        "id": "-ERyHmGIGJP1",
        "outputId": "0a792c6e-a587-456a-8547-1c58d8f64832"
      },
      "source": [
        "preds = rnn_model.predict(test_texts)\n",
        "print('Accuracy score: {:0.4}'.format(accuracy_score(test_labels, 1 * (preds > 0.5))))\n",
        "print('F1 score: {:0.4}'.format(f1_score(test_labels, 1 * (preds > 0.5))))\n",
        "print('ROC AUC score: {:0.4}'.format(roc_auc_score(test_labels, preds)))"
      ],
      "execution_count": 24,
      "outputs": [
        {
          "output_type": "stream",
          "name": "stdout",
          "text": [
            "Accuracy score: 0.9144\n",
            "F1 score: 0.9137\n",
            "ROC AUC score: 0.9714\n"
          ]
        }
      ]
    },
    {
      "cell_type": "markdown",
      "metadata": {
        "id": "UQjC36LaEgst"
      },
      "source": [
        "<h1>GRU</h1>"
      ]
    },
    {
      "cell_type": "code",
      "metadata": {
        "id": "5CI4KuhjPcL_"
      },
      "source": [
        "\n",
        "from keras.layers import SimpleRNN, Embedding, Dense, LSTM\n",
        "from keras.models import Sequential\n",
        "from keras.preprocessing.text import Tokenizer \n",
        "from keras.preprocessing.sequence import pad_sequences\n",
        "\n",
        "%matplotlib inline"
      ],
      "execution_count": 34,
      "outputs": []
    },
    {
      "cell_type": "code",
      "metadata": {
        "id": "HwtkYR9nEfox"
      },
      "source": [
        "from tensorflow.keras.layers import GRU\n",
        "\n",
        "gru_model = Sequential()\n",
        "gru_model.add(Embedding(MAX_FEATURES,64))\n",
        "gru_model.add(GRU(32))\n",
        "gru_model.add(Dense(1,activation='sigmoid'))"
      ],
      "execution_count": 35,
      "outputs": []
    },
    {
      "cell_type": "code",
      "metadata": {
        "colab": {
          "base_uri": "https://localhost:8080/"
        },
        "id": "38SPGyD7FBFE",
        "outputId": "140c70fb-b5c3-4fee-c89c-59ab7299ced6"
      },
      "source": [
        "gru_model.summary()"
      ],
      "execution_count": 36,
      "outputs": [
        {
          "output_type": "stream",
          "name": "stdout",
          "text": [
            "Model: \"sequential_1\"\n",
            "_________________________________________________________________\n",
            "Layer (type)                 Output Shape              Param #   \n",
            "=================================================================\n",
            "embedding (Embedding)        (None, None, 64)          768000    \n",
            "_________________________________________________________________\n",
            "gru (GRU)                    (None, 32)                9408      \n",
            "_________________________________________________________________\n",
            "dense (Dense)                (None, 1)                 33        \n",
            "=================================================================\n",
            "Total params: 777,441\n",
            "Trainable params: 777,441\n",
            "Non-trainable params: 0\n",
            "_________________________________________________________________\n"
          ]
        }
      ]
    },
    {
      "cell_type": "code",
      "metadata": {
        "colab": {
          "base_uri": "https://localhost:8080/"
        },
        "id": "XH3dHclvFEKn",
        "outputId": "696311d7-e3da-474a-f238-5f40d44e7623"
      },
      "source": [
        "gru_model.compile(optimizer = 'rmsprop',loss = 'binary_crossentropy',metrics =  ['accuracy'])\n",
        "\n",
        "gru_train_results = gru_model.fit(train_texts, \n",
        "    train_labels,validation_split = 0.1,\n",
        "                                  epochs = 10,\n",
        "                                  batch_size = 32)"
      ],
      "execution_count": 37,
      "outputs": [
        {
          "output_type": "stream",
          "name": "stdout",
          "text": [
            "Epoch 1/10\n",
            "3038/3038 [==============================] - 111s 36ms/step - loss: 0.2819 - accuracy: 0.8819 - val_loss: 0.2207 - val_accuracy: 0.9131\n",
            "Epoch 2/10\n",
            "3038/3038 [==============================] - 108s 35ms/step - loss: 0.1968 - accuracy: 0.9234 - val_loss: 0.1986 - val_accuracy: 0.9215\n",
            "Epoch 3/10\n",
            "3038/3038 [==============================] - 108s 36ms/step - loss: 0.1779 - accuracy: 0.9311 - val_loss: 0.1969 - val_accuracy: 0.9248\n",
            "Epoch 4/10\n",
            "3038/3038 [==============================] - 108s 35ms/step - loss: 0.1644 - accuracy: 0.9377 - val_loss: 0.1902 - val_accuracy: 0.9264\n",
            "Epoch 5/10\n",
            "3038/3038 [==============================] - 108s 36ms/step - loss: 0.1531 - accuracy: 0.9420 - val_loss: 0.1881 - val_accuracy: 0.9262\n",
            "Epoch 6/10\n",
            "3038/3038 [==============================] - 107s 35ms/step - loss: 0.1426 - accuracy: 0.9472 - val_loss: 0.1868 - val_accuracy: 0.9244\n",
            "Epoch 7/10\n",
            "3038/3038 [==============================] - 108s 36ms/step - loss: 0.1328 - accuracy: 0.9513 - val_loss: 0.1878 - val_accuracy: 0.9263\n",
            "Epoch 8/10\n",
            "3038/3038 [==============================] - 109s 36ms/step - loss: 0.1248 - accuracy: 0.9543 - val_loss: 0.1963 - val_accuracy: 0.9239\n",
            "Epoch 9/10\n",
            "3038/3038 [==============================] - 108s 36ms/step - loss: 0.1165 - accuracy: 0.9583 - val_loss: 0.1922 - val_accuracy: 0.9260\n",
            "Epoch 10/10\n",
            "3038/3038 [==============================] - 108s 36ms/step - loss: 0.1084 - accuracy: 0.9613 - val_loss: 0.1984 - val_accuracy: 0.9249\n"
          ]
        }
      ]
    },
    {
      "cell_type": "code",
      "metadata": {
        "id": "nbue_ILJeDXO"
      },
      "source": [
        "gru_model.save_weights(\"gru_model.h5\")"
      ],
      "execution_count": 71,
      "outputs": []
    },
    {
      "cell_type": "code",
      "metadata": {
        "colab": {
          "base_uri": "https://localhost:8080/"
        },
        "id": "vI6PVlXaFGQn",
        "outputId": "e976dd68-dd34-46a9-e1a0-b68a108f22e7"
      },
      "source": [
        "loss, accuracy = gru_model.evaluate(test_texts,test_labels)"
      ],
      "execution_count": 39,
      "outputs": [
        {
          "output_type": "stream",
          "name": "stdout",
          "text": [
            "2250/2250 [==============================] - 31s 14ms/step - loss: 0.2004 - accuracy: 0.9264\n"
          ]
        }
      ]
    },
    {
      "cell_type": "code",
      "metadata": {
        "colab": {
          "base_uri": "https://localhost:8080/",
          "height": 265
        },
        "id": "lAs3CugnFdM8",
        "outputId": "0352b005-8286-4477-8a96-c0822944b3dd"
      },
      "source": [
        "plt.plot(gru_train_results.history['accuracy'])\n",
        "plt.plot(gru_train_results.history['val_accuracy'])\n",
        "plt.show()"
      ],
      "execution_count": 40,
      "outputs": [
        {
          "output_type": "display_data",
          "data": {
            "image/png": "[encoded data removed]",
            "text/plain": [
              "<Figure size 432x288 with 1 Axes>"
            ]
          },
          "metadata": {
            "needs_background": "light"
          }
        }
      ]
    },
    {
      "cell_type": "code",
      "metadata": {
        "colab": {
          "base_uri": "https://localhost:8080/",
          "height": 265
        },
        "id": "pebu4GD1Fe4y",
        "outputId": "4b883f54-c455-47e8-9ad8-12cffd99b36f"
      },
      "source": [
        "plt.plot(gru_train_results.history['loss'])\n",
        "plt.plot(gru_train_results.history['val_loss'])\n",
        "plt.show()"
      ],
      "execution_count": 41,
      "outputs": [
        {
          "output_type": "display_data",
          "data": {
            "image/png": "[encoded data removed]",
            "text/plain": [
              "<Figure size 432x288 with 1 Axes>"
            ]
          },
          "metadata": {
            "needs_background": "light"
          }
        }
      ]
    },
    {
      "cell_type": "markdown",
      "metadata": {
        "id": "ALFQ0fkeFhgf"
      },
      "source": [
        "<h1>LSTM</h1>"
      ]
    },
    {
      "cell_type": "code",
      "metadata": {
        "id": "cL0cbPeiFmFB"
      },
      "source": [
        "from tensorflow.keras.layers import LSTM\n",
        "lstm_model = Sequential()\n",
        "lstm_model.add(Embedding(MAX_FEATURES,64))\n",
        "lstm_model.add(LSTM(32))\n",
        "lstm_model.add(Dense(1,activation='sigmoid'))"
      ],
      "execution_count": 43,
      "outputs": []
    },
    {
      "cell_type": "code",
      "metadata": {
        "colab": {
          "base_uri": "https://localhost:8080/"
        },
        "id": "AguTVk0AFp1c",
        "outputId": "37e91725-6b69-4594-ea53-2d1b166e2f1e"
      },
      "source": [
        "lstm_model.summary()"
      ],
      "execution_count": 44,
      "outputs": [
        {
          "output_type": "stream",
          "name": "stdout",
          "text": [
            "Model: \"sequential_3\"\n",
            "_________________________________________________________________\n",
            "Layer (type)                 Output Shape              Param #   \n",
            "=================================================================\n",
            "embedding_1 (Embedding)      (None, None, 64)          768000    \n",
            "_________________________________________________________________\n",
            "lstm (LSTM)                  (None, 32)                12416     \n",
            "_________________________________________________________________\n",
            "dense_1 (Dense)              (None, 1)                 33        \n",
            "=================================================================\n",
            "Total params: 780,449\n",
            "Trainable params: 780,449\n",
            "Non-trainable params: 0\n",
            "_________________________________________________________________\n"
          ]
        }
      ]
    },
    {
      "cell_type": "code",
      "metadata": {
        "colab": {
          "base_uri": "https://localhost:8080/"
        },
        "id": "rEM04wKrFt-X",
        "outputId": "de4c1db5-ba55-4594-9db3-d39d5505c97b"
      },
      "source": [
        "lstm_model.compile(optimizer = 'rmsprop',loss = 'binary_crossentropy',metrics =  ['accuracy'])\n",
        "\n",
        "lstm_train_results = lstm_model.fit(train_texts, \n",
        "    train_labels,validation_split = 0.1,\n",
        "                                  epochs = 10,\n",
        "                                  batch_size = 32)"
      ],
      "execution_count": 45,
      "outputs": [
        {
          "output_type": "stream",
          "name": "stdout",
          "text": [
            "Epoch 1/10\n",
            "3038/3038 [==============================] - 110s 36ms/step - loss: 0.2912 - accuracy: 0.8810 - val_loss: 0.2745 - val_accuracy: 0.8923\n",
            "Epoch 2/10\n",
            "3038/3038 [==============================] - 107s 35ms/step - loss: 0.2174 - accuracy: 0.9163 - val_loss: 0.2402 - val_accuracy: 0.9060\n",
            "Epoch 3/10\n",
            "3038/3038 [==============================] - 106s 35ms/step - loss: 0.1956 - accuracy: 0.9253 - val_loss: 0.2115 - val_accuracy: 0.9147\n",
            "Epoch 4/10\n",
            "3038/3038 [==============================] - 107s 35ms/step - loss: 0.1798 - accuracy: 0.9319 - val_loss: 0.1982 - val_accuracy: 0.9211\n",
            "Epoch 5/10\n",
            "3038/3038 [==============================] - 106s 35ms/step - loss: 0.1673 - accuracy: 0.9372 - val_loss: 0.2002 - val_accuracy: 0.9206\n",
            "Epoch 6/10\n",
            "3038/3038 [==============================] - 107s 35ms/step - loss: 0.1558 - accuracy: 0.9425 - val_loss: 0.1977 - val_accuracy: 0.9240\n",
            "Epoch 7/10\n",
            "3038/3038 [==============================] - 107s 35ms/step - loss: 0.1461 - accuracy: 0.9466 - val_loss: 0.1984 - val_accuracy: 0.9234\n",
            "Epoch 8/10\n",
            "3038/3038 [==============================] - 107s 35ms/step - loss: 0.1365 - accuracy: 0.9508 - val_loss: 0.2001 - val_accuracy: 0.9244\n",
            "Epoch 9/10\n",
            "3038/3038 [==============================] - 107s 35ms/step - loss: 0.1283 - accuracy: 0.9537 - val_loss: 0.2102 - val_accuracy: 0.9222\n",
            "Epoch 10/10\n",
            "3038/3038 [==============================] - 107s 35ms/step - loss: 0.1201 - accuracy: 0.9576 - val_loss: 0.2030 - val_accuracy: 0.9200\n"
          ]
        }
      ]
    },
    {
      "cell_type": "code",
      "metadata": {
        "id": "s4KsZPggeI1j"
      },
      "source": [
        "lstm_model.save_weights(\"lstm_model.h5\")"
      ],
      "execution_count": 70,
      "outputs": []
    },
    {
      "cell_type": "code",
      "metadata": {
        "colab": {
          "base_uri": "https://localhost:8080/"
        },
        "id": "W0y2aBRnGnQZ",
        "outputId": "00fdedd2-54ac-45d9-9eb4-a9fc37e71d0a"
      },
      "source": [
        "loss, accuracy = lstm_model.evaluate(test_texts,test_labels)"
      ],
      "execution_count": 47,
      "outputs": [
        {
          "output_type": "stream",
          "name": "stdout",
          "text": [
            "2250/2250 [==============================] - 31s 13ms/step - loss: 0.2018 - accuracy: 0.9226\n"
          ]
        }
      ]
    },
    {
      "cell_type": "code",
      "metadata": {
        "colab": {
          "base_uri": "https://localhost:8080/",
          "height": 266
        },
        "id": "HdmXGfv4Gi06",
        "outputId": "145b562a-78f4-423f-b994-4ca1dac72c41"
      },
      "source": [
        "plt.plot(lstm_train_results.history['accuracy'],c='blue')\n",
        "plt.plot(lstm_train_results.history['val_accuracy'],c='hotpink')\n",
        "plt.show()"
      ],
      "execution_count": 48,
      "outputs": [
        {
          "output_type": "display_data",
          "data": {
            "image/png": "[encoded data removed]",
            "text/plain": [
              "<Figure size 432x288 with 1 Axes>"
            ]
          },
          "metadata": {
            "needs_background": "light"
          }
        }
      ]
    },
    {
      "cell_type": "code",
      "metadata": {
        "colab": {
          "base_uri": "https://localhost:8080/",
          "height": 265
        },
        "id": "9REB6dKuGsHR",
        "outputId": "ba90923c-4cf0-43e1-b390-00f58166826f"
      },
      "source": [
        "plt.plot(lstm_train_results.history['loss'])\n",
        "plt.plot(lstm_train_results.history['val_loss'])\n",
        "plt.show()"
      ],
      "execution_count": 49,
      "outputs": [
        {
          "output_type": "display_data",
          "data": {
            "image/png": "[encoded data removed]",
            "text/plain": [
              "<Figure size 432x288 with 1 Axes>"
            ]
          },
          "metadata": {
            "needs_background": "light"
          }
        }
      ]
    }
  ]
}